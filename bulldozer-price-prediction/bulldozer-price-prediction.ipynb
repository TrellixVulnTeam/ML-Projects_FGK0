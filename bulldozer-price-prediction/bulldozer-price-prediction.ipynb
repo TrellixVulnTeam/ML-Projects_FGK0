{
 "cells": [
  {
   "cell_type": "markdown",
   "id": "680dbc21",
   "metadata": {},
   "source": [
    "# 🚜 In this notebook, the goal of this machine learning project is to predict sale price of bulldozers\n",
    "\n",
    "## 1. Problem Statement\n",
    "> How well can we predict the sale price of a bulldozer, given its characteristics and previously sold bulldozer prices with similar features ?\n",
    "\n",
    "## 2. Data\n",
    "> The data being used here directly comes from the Kaggle competition: Bluebook for Bulldozers : https://www.kaggle.com/c/bluebook-for-bulldozers/data\n",
    "\n",
    "> The dataset is split into 3 parts:\n",
    "* `Train.csv` is the training set, which contains data through the end of 2011.\n",
    "* `Valid.csv` is the validation set, which contains data from January 1, 2012 - April 30, 2012.\n",
    "* `Test.csv` is the test set, which won't be released until the last week of the competition. It contains data from May 1, 2012 - November 2012.\n",
    "\n",
    "## 3. Evaluation\n",
    "> The evaluation metric for this competition is the `RMSLE` (root mean squared log error) between the actual and predicted auction prices. https://www.kaggle.com/c/bluebook-for-bulldozers/overview/evaluation\n",
    "\n",
    "## 4. Features\n",
    "> Kaggle provides a data dictionary detailing about all the features of the dataset. Check here: https://docs.google.com/spreadsheets/d/1nr5fa6adQk794TsNd0RMXLsxiaDJdWzd_pxQe6GjWoo/edit?usp=sharing"
   ]
  },
  {
   "cell_type": "code",
   "execution_count": 1,
   "id": "72eecabb",
   "metadata": {},
   "outputs": [],
   "source": [
    "# import all libs/tools we need\n",
    "# EDA and plotting libs\n",
    "import numpy as np\n",
    "import pandas as pd\n",
    "import matplotlib.pyplot as plt\n",
    "import seaborn as sns\n",
    "\n",
    "%matplotlib inline\n",
    "\n",
    "# models from sklearn\n",
    "from sklearn.linear_model import LogisticRegression\n",
    "from sklearn.neighbors import KNeighborsClassifier\n",
    "from sklearn.ensemble import RandomForestClassifier, RandomForestRegressor\n",
    "\n",
    "# model evaluations\n",
    "from sklearn.model_selection import train_test_split\n",
    "from sklearn.model_selection import RandomizedSearchCV, GridSearchCV, cross_val_score, cross_val_predict\n",
    "from sklearn.metrics import confusion_matrix, classification_report\n",
    "from sklearn.metrics import precision_score, recall_score, f1_score\n",
    "from sklearn.metrics import mean_absolute_error, mean_squared_log_error, r2_score\n",
    "from sklearn.metrics import plot_roc_curve\n",
    "\n",
    "import warnings\n",
    "warnings.filterwarnings('ignore')"
   ]
  },
  {
   "cell_type": "code",
   "execution_count": 2,
   "id": "aa964e8e",
   "metadata": {},
   "outputs": [
    {
     "name": "stdout",
     "output_type": "stream",
     "text": [
      "<class 'pandas.core.frame.DataFrame'>\n",
      "RangeIndex: 412698 entries, 0 to 412697\n",
      "Data columns (total 53 columns):\n",
      " #   Column                    Non-Null Count   Dtype  \n",
      "---  ------                    --------------   -----  \n",
      " 0   SalesID                   412698 non-null  int64  \n",
      " 1   SalePrice                 412698 non-null  float64\n",
      " 2   MachineID                 412698 non-null  int64  \n",
      " 3   ModelID                   412698 non-null  int64  \n",
      " 4   datasource                412698 non-null  int64  \n",
      " 5   auctioneerID              392562 non-null  float64\n",
      " 6   YearMade                  412698 non-null  int64  \n",
      " 7   MachineHoursCurrentMeter  147504 non-null  float64\n",
      " 8   UsageBand                 73670 non-null   object \n",
      " 9   saledate                  412698 non-null  object \n",
      " 10  fiModelDesc               412698 non-null  object \n",
      " 11  fiBaseModel               412698 non-null  object \n",
      " 12  fiSecondaryDesc           271971 non-null  object \n",
      " 13  fiModelSeries             58667 non-null   object \n",
      " 14  fiModelDescriptor         74816 non-null   object \n",
      " 15  ProductSize               196093 non-null  object \n",
      " 16  fiProductClassDesc        412698 non-null  object \n",
      " 17  state                     412698 non-null  object \n",
      " 18  ProductGroup              412698 non-null  object \n",
      " 19  ProductGroupDesc          412698 non-null  object \n",
      " 20  Drive_System              107087 non-null  object \n",
      " 21  Enclosure                 412364 non-null  object \n",
      " 22  Forks                     197715 non-null  object \n",
      " 23  Pad_Type                  81096 non-null   object \n",
      " 24  Ride_Control              152728 non-null  object \n",
      " 25  Stick                     81096 non-null   object \n",
      " 26  Transmission              188007 non-null  object \n",
      " 27  Turbocharged              81096 non-null   object \n",
      " 28  Blade_Extension           25983 non-null   object \n",
      " 29  Blade_Width               25983 non-null   object \n",
      " 30  Enclosure_Type            25983 non-null   object \n",
      " 31  Engine_Horsepower         25983 non-null   object \n",
      " 32  Hydraulics                330133 non-null  object \n",
      " 33  Pushblock                 25983 non-null   object \n",
      " 34  Ripper                    106945 non-null  object \n",
      " 35  Scarifier                 25994 non-null   object \n",
      " 36  Tip_Control               25983 non-null   object \n",
      " 37  Tire_Size                 97638 non-null   object \n",
      " 38  Coupler                   220679 non-null  object \n",
      " 39  Coupler_System            44974 non-null   object \n",
      " 40  Grouser_Tracks            44875 non-null   object \n",
      " 41  Hydraulics_Flow           44875 non-null   object \n",
      " 42  Track_Type                102193 non-null  object \n",
      " 43  Undercarriage_Pad_Width   102916 non-null  object \n",
      " 44  Stick_Length              102261 non-null  object \n",
      " 45  Thumb                     102332 non-null  object \n",
      " 46  Pattern_Changer           102261 non-null  object \n",
      " 47  Grouser_Type              102193 non-null  object \n",
      " 48  Backhoe_Mounting          80712 non-null   object \n",
      " 49  Blade_Type                81875 non-null   object \n",
      " 50  Travel_Controls           81877 non-null   object \n",
      " 51  Differential_Type         71564 non-null   object \n",
      " 52  Steering_Controls         71522 non-null   object \n",
      "dtypes: float64(3), int64(5), object(45)\n",
      "memory usage: 166.9+ MB\n"
     ]
    }
   ],
   "source": [
    "# Import training and validation sets\n",
    "\n",
    "df = pd.read_csv('data/bluebook-for-bulldozers/TrainAndValid.csv')\n",
    "df.info()"
   ]
  },
  {
   "cell_type": "code",
   "execution_count": 3,
   "id": "19378070",
   "metadata": {},
   "outputs": [
    {
     "data": {
      "text/plain": [
       "SalesID                          0\n",
       "SalePrice                        0\n",
       "MachineID                        0\n",
       "ModelID                          0\n",
       "datasource                       0\n",
       "auctioneerID                 20136\n",
       "YearMade                         0\n",
       "MachineHoursCurrentMeter    265194\n",
       "UsageBand                   339028\n",
       "saledate                         0\n",
       "fiModelDesc                      0\n",
       "fiBaseModel                      0\n",
       "fiSecondaryDesc             140727\n",
       "fiModelSeries               354031\n",
       "fiModelDescriptor           337882\n",
       "ProductSize                 216605\n",
       "fiProductClassDesc               0\n",
       "state                            0\n",
       "ProductGroup                     0\n",
       "ProductGroupDesc                 0\n",
       "Drive_System                305611\n",
       "Enclosure                      334\n",
       "Forks                       214983\n",
       "Pad_Type                    331602\n",
       "Ride_Control                259970\n",
       "Stick                       331602\n",
       "Transmission                224691\n",
       "Turbocharged                331602\n",
       "Blade_Extension             386715\n",
       "Blade_Width                 386715\n",
       "Enclosure_Type              386715\n",
       "Engine_Horsepower           386715\n",
       "Hydraulics                   82565\n",
       "Pushblock                   386715\n",
       "Ripper                      305753\n",
       "Scarifier                   386704\n",
       "Tip_Control                 386715\n",
       "Tire_Size                   315060\n",
       "Coupler                     192019\n",
       "Coupler_System              367724\n",
       "Grouser_Tracks              367823\n",
       "Hydraulics_Flow             367823\n",
       "Track_Type                  310505\n",
       "Undercarriage_Pad_Width     309782\n",
       "Stick_Length                310437\n",
       "Thumb                       310366\n",
       "Pattern_Changer             310437\n",
       "Grouser_Type                310505\n",
       "Backhoe_Mounting            331986\n",
       "Blade_Type                  330823\n",
       "Travel_Controls             330821\n",
       "Differential_Type           341134\n",
       "Steering_Controls           341176\n",
       "dtype: int64"
      ]
     },
     "execution_count": 3,
     "metadata": {},
     "output_type": "execute_result"
    }
   ],
   "source": [
    "# check for null values\n",
    "\n",
    "df.isna().sum()"
   ]
  },
  {
   "cell_type": "code",
   "execution_count": 4,
   "id": "4210aece",
   "metadata": {},
   "outputs": [
    {
     "data": {
      "image/png": "[encoded data removed]",
      "text/plain": [
       "<Figure size 432x288 with 1 Axes>"
      ]
     },
     "metadata": {
      "needs_background": "light"
     },
     "output_type": "display_data"
    }
   ],
   "source": [
    "# plot saledate and saleprice \n",
    "fig, ax = plt.subplots()\n",
    "ax.scatter(df.saledate[:1000], df.SalePrice[:1000]);"
   ]
  },
  {
   "cell_type": "code",
   "execution_count": 5,
   "id": "cf1c9d68",
   "metadata": {},
   "outputs": [
    {
     "data": {
      "image/png": "[encoded data removed]",
      "text/plain": [
       "<Figure size 432x288 with 1 Axes>"
      ]
     },
     "metadata": {
      "needs_background": "light"
     },
     "output_type": "display_data"
    }
   ],
   "source": [
    "# distribution of saleprice\n",
    "\n",
    "df.SalePrice.plot(kind='hist');"
   ]
  },
  {
   "cell_type": "markdown",
   "id": "d4b72d8c",
   "metadata": {},
   "source": [
    "### Parsing Dates\n",
    "> When working with time series data, enrich time & date components as much as possible."
   ]
  },
  {
   "cell_type": "code",
   "execution_count": 6,
   "id": "46096e10",
   "metadata": {},
   "outputs": [
    {
     "data": {
      "text/plain": [
       "0         11/16/2006 0:00\n",
       "1          3/26/2004 0:00\n",
       "2          2/26/2004 0:00\n",
       "3          5/19/2011 0:00\n",
       "4          7/23/2009 0:00\n",
       "               ...       \n",
       "412693      3/7/2012 0:00\n",
       "412694     1/28/2012 0:00\n",
       "412695     1/28/2012 0:00\n",
       "412696      3/7/2012 0:00\n",
       "412697     1/28/2012 0:00\n",
       "Name: saledate, Length: 412698, dtype: object"
      ]
     },
     "execution_count": 6,
     "metadata": {},
     "output_type": "execute_result"
    }
   ],
   "source": [
    "df.saledate"
   ]
  },
  {
   "cell_type": "code",
   "execution_count": 7,
   "id": "6120c110",
   "metadata": {},
   "outputs": [],
   "source": [
    "# import data again but this time parse_dates as well\n",
    "\n",
    "df = pd.read_csv('data/bluebook-for-bulldozers/TrainAndValid.csv',\n",
    "                parse_dates=['saledate'])"
   ]
  },
  {
   "cell_type": "code",
   "execution_count": 8,
   "id": "b1196c33",
   "metadata": {},
   "outputs": [
    {
     "data": {
      "text/plain": [
       "0        2006-11-16\n",
       "1        2004-03-26\n",
       "2        2004-02-26\n",
       "3        2011-05-19\n",
       "4        2009-07-23\n",
       "            ...    \n",
       "412693   2012-03-07\n",
       "412694   2012-01-28\n",
       "412695   2012-01-28\n",
       "412696   2012-03-07\n",
       "412697   2012-01-28\n",
       "Name: saledate, Length: 412698, dtype: datetime64[ns]"
      ]
     },
     "execution_count": 8,
     "metadata": {},
     "output_type": "execute_result"
    }
   ],
   "source": [
    "df.saledate"
   ]
  },
  {
   "cell_type": "markdown",
   "id": "5682bb87",
   "metadata": {},
   "source": [
    "### Sort Dataframe by saledate\n",
    "> When working with `Time-Series` data, should format data by date.\n",
    "\n"
   ]
  },
  {
   "cell_type": "code",
   "execution_count": 9,
   "id": "f631bb0e",
   "metadata": {},
   "outputs": [
    {
     "data": {
      "text/plain": [
       "205615   1989-01-17\n",
       "274835   1989-01-31\n",
       "141296   1989-01-31\n",
       "212552   1989-01-31\n",
       "62755    1989-01-31\n",
       "            ...    \n",
       "410879   2012-04-28\n",
       "412476   2012-04-28\n",
       "411927   2012-04-28\n",
       "407124   2012-04-28\n",
       "409203   2012-04-28\n",
       "Name: saledate, Length: 412698, dtype: datetime64[ns]"
      ]
     },
     "execution_count": 9,
     "metadata": {},
     "output_type": "execute_result"
    }
   ],
   "source": [
    "# Sort data by saledate\n",
    "\n",
    "df.sort_values(by=['saledate'],\n",
    "              ascending=True,\n",
    "              inplace=True)\n",
    "df.saledate"
   ]
  },
  {
   "cell_type": "code",
   "execution_count": 10,
   "id": "dbe2df3f",
   "metadata": {},
   "outputs": [],
   "source": [
    "# Keep copy of data\n",
    "\n",
    "df_tmp = df.copy()"
   ]
  },
  {
   "cell_type": "markdown",
   "id": "f3154130",
   "metadata": {},
   "source": [
    "### Feature Engineering"
   ]
  },
  {
   "cell_type": "markdown",
   "id": "b461929f",
   "metadata": {},
   "source": [
    "#### Add Date time parameters for `saleDate` column"
   ]
  },
  {
   "cell_type": "code",
   "execution_count": 11,
   "id": "39d1a3b3",
   "metadata": {},
   "outputs": [],
   "source": [
    "# enrich dataframe with multiple date time components\n",
    "\n",
    "# year\n",
    "df['saleYear'] = df.saledate.dt.year\n",
    "df['saleMonth'] = df.saledate.dt.month\n",
    "df['saleDay'] = df.saledate.dt.day\n",
    "df['saleDayofWeek'] = df.saledate.dt.dayofweek\n",
    "df['saleDayofYear'] = df.saledate.dt.dayofyear\n",
    "df['saleQuarterOfYear'] = df.saledate.dt.quarter"
   ]
  },
  {
   "cell_type": "code",
   "execution_count": 12,
   "id": "11a12299",
   "metadata": {},
   "outputs": [],
   "source": [
    "# since we have enriched our dataframe with date time attributes\n",
    "# saledate can be dropped\n",
    "df.drop(columns=['saledate'],\n",
    "       inplace=True)"
   ]
  },
  {
   "cell_type": "code",
   "execution_count": 13,
   "id": "a50b08e6",
   "metadata": {},
   "outputs": [
    {
     "data": {
      "text/plain": [
       "Florida           67320\n",
       "Texas             53110\n",
       "California        29761\n",
       "Washington        16222\n",
       "Georgia           14633\n",
       "Maryland          13322\n",
       "Mississippi       13240\n",
       "Ohio              12369\n",
       "Illinois          11540\n",
       "Colorado          11529\n",
       "New Jersey        11156\n",
       "North Carolina    10636\n",
       "Tennessee         10298\n",
       "Alabama           10292\n",
       "Pennsylvania      10234\n",
       "South Carolina     9951\n",
       "Arizona            9364\n",
       "New York           8639\n",
       "Connecticut        8276\n",
       "Minnesota          7885\n",
       "Missouri           7178\n",
       "Nevada             6932\n",
       "Louisiana          6627\n",
       "Kentucky           5351\n",
       "Maine              5096\n",
       "Indiana            4124\n",
       "Arkansas           3933\n",
       "New Mexico         3631\n",
       "Utah               3046\n",
       "Unspecified        2801\n",
       "Wisconsin          2745\n",
       "New Hampshire      2738\n",
       "Virginia           2353\n",
       "Idaho              2025\n",
       "Oregon             1911\n",
       "Michigan           1831\n",
       "Wyoming            1672\n",
       "Montana            1336\n",
       "Iowa               1336\n",
       "Oklahoma           1326\n",
       "Nebraska            866\n",
       "West Virginia       840\n",
       "Kansas              667\n",
       "Delaware            510\n",
       "North Dakota        480\n",
       "Alaska              430\n",
       "Massachusetts       347\n",
       "Vermont             300\n",
       "South Dakota        244\n",
       "Hawaii              118\n",
       "Rhode Island         83\n",
       "Puerto Rico          42\n",
       "Washington DC         2\n",
       "Name: state, dtype: int64"
      ]
     },
     "execution_count": 13,
     "metadata": {},
     "output_type": "execute_result"
    }
   ],
   "source": [
    "# Check sales as per states\n",
    "df.state.value_counts()"
   ]
  },
  {
   "cell_type": "markdown",
   "id": "2ca789ac",
   "metadata": {},
   "source": [
    "# 5. Modelling\n",
    "> Since we have too many features, Let's do some model driven EDA\n"
   ]
  },
  {
   "cell_type": "code",
   "execution_count": 14,
   "id": "cb84acab",
   "metadata": {},
   "outputs": [],
   "source": [
    "# Let's build a ML model\n",
    "\n",
    "clf = RandomForestRegressor(n_jobs=-1,\n",
    "                           random_state=42)\n",
    "# clf.fit(df.drop(columns=['SalePrice']), df['SalePrice'])\n"
   ]
  },
  {
   "cell_type": "markdown",
   "id": "012226e0",
   "metadata": {},
   "source": [
    "# This shows that we need to convert Data into numerical format\n",
    "# AND ALSO\n",
    "# Fix all the Null/missing values"
   ]
  },
  {
   "cell_type": "markdown",
   "id": "b471f049",
   "metadata": {},
   "source": [
    "### Convert String/Object Data to Numericals"
   ]
  },
  {
   "cell_type": "code",
   "execution_count": 15,
   "id": "a9f5401c",
   "metadata": {},
   "outputs": [
    {
     "name": "stdout",
     "output_type": "stream",
     "text": [
      "UsageBand\n",
      "fiModelDesc\n",
      "fiBaseModel\n",
      "fiSecondaryDesc\n",
      "fiModelSeries\n",
      "fiModelDescriptor\n",
      "ProductSize\n",
      "fiProductClassDesc\n",
      "state\n",
      "ProductGroup\n",
      "ProductGroupDesc\n",
      "Drive_System\n",
      "Enclosure\n",
      "Forks\n",
      "Pad_Type\n",
      "Ride_Control\n",
      "Stick\n",
      "Transmission\n",
      "Turbocharged\n",
      "Blade_Extension\n",
      "Blade_Width\n",
      "Enclosure_Type\n",
      "Engine_Horsepower\n",
      "Hydraulics\n",
      "Pushblock\n",
      "Ripper\n",
      "Scarifier\n",
      "Tip_Control\n",
      "Tire_Size\n",
      "Coupler\n",
      "Coupler_System\n",
      "Grouser_Tracks\n",
      "Hydraulics_Flow\n",
      "Track_Type\n",
      "Undercarriage_Pad_Width\n",
      "Stick_Length\n",
      "Thumb\n",
      "Pattern_Changer\n",
      "Grouser_Type\n",
      "Backhoe_Mounting\n",
      "Blade_Type\n",
      "Travel_Controls\n",
      "Differential_Type\n",
      "Steering_Controls\n"
     ]
    }
   ],
   "source": [
    "# Check which all columns are string/object or similar types\n",
    "for label, content in df.items():\n",
    "    if pd.api.types.is_string_dtype(content):\n",
    "        print(f\"{label}\")"
   ]
  },
  {
   "cell_type": "markdown",
   "id": "fa50cbe5",
   "metadata": {},
   "source": [
    "### Convert String to categories\n",
    "> One way to deal with non-numeric data is to convert them to `Categories`"
   ]
  },
  {
   "cell_type": "code",
   "execution_count": 16,
   "id": "b42b75c9",
   "metadata": {},
   "outputs": [],
   "source": [
    "for label, content in df.items():\n",
    "    if pd.api.types.is_string_dtype(content):\n",
    "        df[label] = content.astype('category').cat.as_ordered()"
   ]
  },
  {
   "cell_type": "code",
   "execution_count": 17,
   "id": "90f1346d",
   "metadata": {},
   "outputs": [],
   "source": [
    "# export categoriesed data\n",
    "df.to_csv('data/bluebook-for-bulldozers/train_categorized.csv',\n",
    "         index=False)"
   ]
  },
  {
   "cell_type": "code",
   "execution_count": 18,
   "id": "d5ade434",
   "metadata": {},
   "outputs": [
    {
     "data": {
      "text/html": [
       "<div>\n",
       "<style scoped>\n",
       "    .dataframe tbody tr th:only-of-type {\n",
       "        vertical-align: middle;\n",
       "    }\n",
       "\n",
       "    .dataframe tbody tr th {\n",
       "        vertical-align: top;\n",
       "    }\n",
       "\n",
       "    .dataframe thead th {\n",
       "        text-align: right;\n",
       "    }\n",
       "</style>\n",
       "<table border=\"1\" class=\"dataframe\">\n",
       "  <thead>\n",
       "    <tr style=\"text-align: right;\">\n",
       "      <th></th>\n",
       "      <th>SalesID</th>\n",
       "      <th>SalePrice</th>\n",
       "      <th>MachineID</th>\n",
       "      <th>ModelID</th>\n",
       "      <th>datasource</th>\n",
       "      <th>auctioneerID</th>\n",
       "      <th>YearMade</th>\n",
       "      <th>MachineHoursCurrentMeter</th>\n",
       "      <th>UsageBand</th>\n",
       "      <th>fiModelDesc</th>\n",
       "      <th>...</th>\n",
       "      <th>Blade_Type</th>\n",
       "      <th>Travel_Controls</th>\n",
       "      <th>Differential_Type</th>\n",
       "      <th>Steering_Controls</th>\n",
       "      <th>saleYear</th>\n",
       "      <th>saleMonth</th>\n",
       "      <th>saleDay</th>\n",
       "      <th>saleDayofWeek</th>\n",
       "      <th>saleDayofYear</th>\n",
       "      <th>saleQuarterOfYear</th>\n",
       "    </tr>\n",
       "  </thead>\n",
       "  <tbody>\n",
       "    <tr>\n",
       "      <th>0</th>\n",
       "      <td>1646770</td>\n",
       "      <td>9500.0</td>\n",
       "      <td>1126363</td>\n",
       "      <td>8434</td>\n",
       "      <td>132</td>\n",
       "      <td>18.0</td>\n",
       "      <td>1974</td>\n",
       "      <td>NaN</td>\n",
       "      <td>NaN</td>\n",
       "      <td>TD20</td>\n",
       "      <td>...</td>\n",
       "      <td>Straight</td>\n",
       "      <td>None or Unspecified</td>\n",
       "      <td>NaN</td>\n",
       "      <td>NaN</td>\n",
       "      <td>1989</td>\n",
       "      <td>1</td>\n",
       "      <td>17</td>\n",
       "      <td>1</td>\n",
       "      <td>17</td>\n",
       "      <td>1</td>\n",
       "    </tr>\n",
       "    <tr>\n",
       "      <th>1</th>\n",
       "      <td>1821514</td>\n",
       "      <td>14000.0</td>\n",
       "      <td>1194089</td>\n",
       "      <td>10150</td>\n",
       "      <td>132</td>\n",
       "      <td>99.0</td>\n",
       "      <td>1980</td>\n",
       "      <td>NaN</td>\n",
       "      <td>NaN</td>\n",
       "      <td>A66</td>\n",
       "      <td>...</td>\n",
       "      <td>NaN</td>\n",
       "      <td>NaN</td>\n",
       "      <td>Standard</td>\n",
       "      <td>Conventional</td>\n",
       "      <td>1989</td>\n",
       "      <td>1</td>\n",
       "      <td>31</td>\n",
       "      <td>1</td>\n",
       "      <td>31</td>\n",
       "      <td>1</td>\n",
       "    </tr>\n",
       "    <tr>\n",
       "      <th>2</th>\n",
       "      <td>1505138</td>\n",
       "      <td>50000.0</td>\n",
       "      <td>1473654</td>\n",
       "      <td>4139</td>\n",
       "      <td>132</td>\n",
       "      <td>99.0</td>\n",
       "      <td>1978</td>\n",
       "      <td>NaN</td>\n",
       "      <td>NaN</td>\n",
       "      <td>D7G</td>\n",
       "      <td>...</td>\n",
       "      <td>Straight</td>\n",
       "      <td>None or Unspecified</td>\n",
       "      <td>NaN</td>\n",
       "      <td>NaN</td>\n",
       "      <td>1989</td>\n",
       "      <td>1</td>\n",
       "      <td>31</td>\n",
       "      <td>1</td>\n",
       "      <td>31</td>\n",
       "      <td>1</td>\n",
       "    </tr>\n",
       "    <tr>\n",
       "      <th>3</th>\n",
       "      <td>1671174</td>\n",
       "      <td>16000.0</td>\n",
       "      <td>1327630</td>\n",
       "      <td>8591</td>\n",
       "      <td>132</td>\n",
       "      <td>99.0</td>\n",
       "      <td>1980</td>\n",
       "      <td>NaN</td>\n",
       "      <td>NaN</td>\n",
       "      <td>A62</td>\n",
       "      <td>...</td>\n",
       "      <td>NaN</td>\n",
       "      <td>NaN</td>\n",
       "      <td>Standard</td>\n",
       "      <td>Conventional</td>\n",
       "      <td>1989</td>\n",
       "      <td>1</td>\n",
       "      <td>31</td>\n",
       "      <td>1</td>\n",
       "      <td>31</td>\n",
       "      <td>1</td>\n",
       "    </tr>\n",
       "    <tr>\n",
       "      <th>4</th>\n",
       "      <td>1329056</td>\n",
       "      <td>22000.0</td>\n",
       "      <td>1336053</td>\n",
       "      <td>4089</td>\n",
       "      <td>132</td>\n",
       "      <td>99.0</td>\n",
       "      <td>1984</td>\n",
       "      <td>NaN</td>\n",
       "      <td>NaN</td>\n",
       "      <td>D3B</td>\n",
       "      <td>...</td>\n",
       "      <td>PAT</td>\n",
       "      <td>Lever</td>\n",
       "      <td>NaN</td>\n",
       "      <td>NaN</td>\n",
       "      <td>1989</td>\n",
       "      <td>1</td>\n",
       "      <td>31</td>\n",
       "      <td>1</td>\n",
       "      <td>31</td>\n",
       "      <td>1</td>\n",
       "    </tr>\n",
       "  </tbody>\n",
       "</table>\n",
       "<p>5 rows × 58 columns</p>\n",
       "</div>"
      ],
      "text/plain": [
       "   SalesID  SalePrice  MachineID  ModelID  datasource  auctioneerID  YearMade  \\\n",
       "0  1646770     9500.0    1126363     8434         132          18.0      1974   \n",
       "1  1821514    14000.0    1194089    10150         132          99.0      1980   \n",
       "2  1505138    50000.0    1473654     4139         132          99.0      1978   \n",
       "3  1671174    16000.0    1327630     8591         132          99.0      1980   \n",
       "4  1329056    22000.0    1336053     4089         132          99.0      1984   \n",
       "\n",
       "   MachineHoursCurrentMeter UsageBand fiModelDesc  ... Blade_Type  \\\n",
       "0                       NaN       NaN        TD20  ...   Straight   \n",
       "1                       NaN       NaN         A66  ...        NaN   \n",
       "2                       NaN       NaN         D7G  ...   Straight   \n",
       "3                       NaN       NaN         A62  ...        NaN   \n",
       "4                       NaN       NaN         D3B  ...        PAT   \n",
       "\n",
       "       Travel_Controls Differential_Type Steering_Controls saleYear saleMonth  \\\n",
       "0  None or Unspecified               NaN               NaN     1989         1   \n",
       "1                  NaN          Standard      Conventional     1989         1   \n",
       "2  None or Unspecified               NaN               NaN     1989         1   \n",
       "3                  NaN          Standard      Conventional     1989         1   \n",
       "4                Lever               NaN               NaN     1989         1   \n",
       "\n",
       "  saleDay saleDayofWeek saleDayofYear saleQuarterOfYear  \n",
       "0      17             1            17                 1  \n",
       "1      31             1            31                 1  \n",
       "2      31             1            31                 1  \n",
       "3      31             1            31                 1  \n",
       "4      31             1            31                 1  \n",
       "\n",
       "[5 rows x 58 columns]"
      ]
     },
     "execution_count": 18,
     "metadata": {},
     "output_type": "execute_result"
    }
   ],
   "source": [
    "df = pd.read_csv('data/bluebook-for-bulldozers/train_categorized.csv')\n",
    "df.head()"
   ]
  },
  {
   "cell_type": "code",
   "execution_count": 19,
   "id": "098863a5",
   "metadata": {},
   "outputs": [
    {
     "data": {
      "text/plain": [
       "SalesID                      True\n",
       "SalePrice                    True\n",
       "MachineID                    True\n",
       "ModelID                      True\n",
       "datasource                   True\n",
       "auctioneerID                 True\n",
       "YearMade                     True\n",
       "MachineHoursCurrentMeter     True\n",
       "UsageBand                   False\n",
       "fiModelDesc                  True\n",
       "fiBaseModel                  True\n",
       "fiSecondaryDesc              True\n",
       "fiModelSeries               False\n",
       "fiModelDescriptor           False\n",
       "ProductSize                  True\n",
       "fiProductClassDesc           True\n",
       "state                        True\n",
       "ProductGroup                 True\n",
       "ProductGroupDesc             True\n",
       "Drive_System                 True\n",
       "Enclosure                    True\n",
       "Forks                        True\n",
       "Pad_Type                    False\n",
       "Ride_Control                 True\n",
       "Stick                       False\n",
       "Transmission                 True\n",
       "Turbocharged                False\n",
       "Blade_Extension             False\n",
       "Blade_Width                 False\n",
       "Enclosure_Type              False\n",
       "Engine_Horsepower           False\n",
       "Hydraulics                   True\n",
       "Pushblock                   False\n",
       "Ripper                       True\n",
       "Scarifier                   False\n",
       "Tip_Control                 False\n",
       "Tire_Size                    True\n",
       "Coupler                      True\n",
       "Coupler_System              False\n",
       "Grouser_Tracks              False\n",
       "Hydraulics_Flow             False\n",
       "Track_Type                   True\n",
       "Undercarriage_Pad_Width      True\n",
       "Stick_Length                 True\n",
       "Thumb                        True\n",
       "Pattern_Changer              True\n",
       "Grouser_Type                 True\n",
       "Backhoe_Mounting            False\n",
       "Blade_Type                  False\n",
       "Travel_Controls             False\n",
       "Differential_Type           False\n",
       "Steering_Controls           False\n",
       "saleYear                     True\n",
       "saleMonth                    True\n",
       "saleDay                      True\n",
       "saleDayofWeek                True\n",
       "saleDayofYear                True\n",
       "saleQuarterOfYear            True\n",
       "dtype: bool"
      ]
     },
     "execution_count": 19,
     "metadata": {},
     "output_type": "execute_result"
    }
   ],
   "source": [
    "# Let's see what percent of values are missing for different columns\n",
    "df.isnull().sum()/len(df) < 0.8"
   ]
  },
  {
   "cell_type": "markdown",
   "id": "057ab966",
   "metadata": {},
   "source": [
    "### Fill Missing Values\n",
    "#### Fill Numeric missing values\n",
    "> Always prefer to use `median` as compared to mean to fill missing values"
   ]
  },
  {
   "cell_type": "code",
   "execution_count": 20,
   "id": "1340935a",
   "metadata": {},
   "outputs": [],
   "source": [
    "\"\"\"\n",
    "    Find Numeric columns with missing values and fill them with median\n",
    "\"\"\"\n",
    "def fillNumericCols(dataframe = df):\n",
    "    missingValCols = []\n",
    "    for label, content in df.items():\n",
    "        # check if numeric\n",
    "        if pd.api.types.is_numeric_dtype(content):\n",
    "            missingValCols.append(label)\n",
    "            # create a binary column for tracking\n",
    "            # AND check if Null values are there or Not\n",
    "            dataframe[label+'_is_missing'] = pd.isnull(content)\n",
    "            # fill missing value by median\n",
    "            dataframe[label] = content.fillna(content.median())\n",
    "    return dataframe, missingValCols"
   ]
  },
  {
   "cell_type": "code",
   "execution_count": 21,
   "id": "a1a7c2af",
   "metadata": {},
   "outputs": [],
   "source": [
    "df, missingValCols = fillNumericCols(df)"
   ]
  },
  {
   "cell_type": "code",
   "execution_count": 22,
   "id": "45231b7b",
   "metadata": {},
   "outputs": [
    {
     "data": {
      "text/plain": [
       "(412698, 72)"
      ]
     },
     "execution_count": 22,
     "metadata": {},
     "output_type": "execute_result"
    }
   ],
   "source": [
    "df.shape"
   ]
  },
  {
   "cell_type": "code",
   "execution_count": 23,
   "id": "2d5bae83",
   "metadata": {},
   "outputs": [
    {
     "data": {
      "text/plain": [
       "SalesID                     0\n",
       "SalePrice                   0\n",
       "MachineID                   0\n",
       "ModelID                     0\n",
       "datasource                  0\n",
       "auctioneerID                0\n",
       "YearMade                    0\n",
       "MachineHoursCurrentMeter    0\n",
       "saleYear                    0\n",
       "saleMonth                   0\n",
       "saleDay                     0\n",
       "saleDayofWeek               0\n",
       "saleDayofYear               0\n",
       "saleQuarterOfYear           0\n",
       "dtype: int64"
      ]
     },
     "execution_count": 23,
     "metadata": {},
     "output_type": "execute_result"
    }
   ],
   "source": [
    "# check if any more null values present ?\n",
    "\n",
    "df[missingValCols].isnull().sum()"
   ]
  },
  {
   "cell_type": "code",
   "execution_count": 24,
   "id": "f6d0c538",
   "metadata": {},
   "outputs": [
    {
     "data": {
      "text/plain": [
       "SalesID                         0\n",
       "SalePrice                       0\n",
       "MachineID                       0\n",
       "ModelID                         0\n",
       "datasource                      0\n",
       "                               ..\n",
       "saleMonth_is_missing            0\n",
       "saleDay_is_missing              0\n",
       "saleDayofWeek_is_missing        0\n",
       "saleDayofYear_is_missing        0\n",
       "saleQuarterOfYear_is_missing    0\n",
       "Length: 72, dtype: int64"
      ]
     },
     "execution_count": 24,
     "metadata": {},
     "output_type": "execute_result"
    }
   ],
   "source": [
    "df.isnull().sum()"
   ]
  },
  {
   "cell_type": "code",
   "execution_count": 25,
   "id": "907da2de",
   "metadata": {},
   "outputs": [],
   "source": [
    "# Let's now fill other cols with null values\n",
    "\n",
    "\"\"\"\n",
    "    Find Non Numeric CATEGORICAL columns with missing values and fill them \n",
    "\"\"\"\n",
    "def fillCols(dataframe = df):\n",
    "    missingValCols = []\n",
    "    for label, content in df.items():\n",
    "        # check if Non Numeric\n",
    "        if not pd.api.types.is_numeric_dtype(content):\n",
    "            missingValCols.append(label)\n",
    "            # create a binary column for tracking\n",
    "            # AND check if Missing values are there or Not\n",
    "            dataframe[label+'_is_missing'] = pd.isnull(content)\n",
    "            # Non numeric CATEGORICAL columns with Missing values are assigned -1 Category code by default\n",
    "            # Hence, incrementing category code\n",
    "            dataframe[label] = pd.Categorical(content).codes +1\n",
    "    return dataframe, missingValCols"
   ]
  },
  {
   "cell_type": "code",
   "execution_count": 26,
   "id": "fd7f8a07",
   "metadata": {},
   "outputs": [],
   "source": [
    "df, missingValCols = fillCols(df)"
   ]
  },
  {
   "cell_type": "code",
   "execution_count": 27,
   "id": "c4431311",
   "metadata": {},
   "outputs": [
    {
     "data": {
      "text/plain": [
       "SalesID                         0\n",
       "SalePrice                       0\n",
       "MachineID                       0\n",
       "ModelID                         0\n",
       "datasource                      0\n",
       "                               ..\n",
       "Backhoe_Mounting_is_missing     0\n",
       "Blade_Type_is_missing           0\n",
       "Travel_Controls_is_missing      0\n",
       "Differential_Type_is_missing    0\n",
       "Steering_Controls_is_missing    0\n",
       "Length: 116, dtype: int64"
      ]
     },
     "execution_count": 27,
     "metadata": {},
     "output_type": "execute_result"
    }
   ],
   "source": [
    "# check for any other Null values, if present ?\n",
    "\n",
    "df.isnull().sum()"
   ]
  },
  {
   "cell_type": "markdown",
   "id": "a29dccbf",
   "metadata": {},
   "source": [
    "### Since, there aren't any missing values and all the data is numeric\n",
    "### >>> Build & Fit our Machine Learning model"
   ]
  },
  {
   "cell_type": "code",
   "execution_count": 28,
   "id": "5d7c0929",
   "metadata": {},
   "outputs": [
    {
     "data": {
      "text/plain": [
       "412698"
      ]
     },
     "execution_count": 28,
     "metadata": {},
     "output_type": "execute_result"
    }
   ],
   "source": [
    "len(df)"
   ]
  },
  {
   "cell_type": "code",
   "execution_count": 29,
   "id": "2fddfb5b",
   "metadata": {},
   "outputs": [
    {
     "data": {
      "text/html": [
       "<div>\n",
       "<style scoped>\n",
       "    .dataframe tbody tr th:only-of-type {\n",
       "        vertical-align: middle;\n",
       "    }\n",
       "\n",
       "    .dataframe tbody tr th {\n",
       "        vertical-align: top;\n",
       "    }\n",
       "\n",
       "    .dataframe thead th {\n",
       "        text-align: right;\n",
       "    }\n",
       "</style>\n",
       "<table border=\"1\" class=\"dataframe\">\n",
       "  <thead>\n",
       "    <tr style=\"text-align: right;\">\n",
       "      <th></th>\n",
       "      <th>SalesID</th>\n",
       "      <th>SalePrice</th>\n",
       "      <th>MachineID</th>\n",
       "      <th>ModelID</th>\n",
       "      <th>datasource</th>\n",
       "      <th>auctioneerID</th>\n",
       "      <th>YearMade</th>\n",
       "      <th>MachineHoursCurrentMeter</th>\n",
       "      <th>UsageBand</th>\n",
       "      <th>fiModelDesc</th>\n",
       "      <th>...</th>\n",
       "      <th>Undercarriage_Pad_Width_is_missing</th>\n",
       "      <th>Stick_Length_is_missing</th>\n",
       "      <th>Thumb_is_missing</th>\n",
       "      <th>Pattern_Changer_is_missing</th>\n",
       "      <th>Grouser_Type_is_missing</th>\n",
       "      <th>Backhoe_Mounting_is_missing</th>\n",
       "      <th>Blade_Type_is_missing</th>\n",
       "      <th>Travel_Controls_is_missing</th>\n",
       "      <th>Differential_Type_is_missing</th>\n",
       "      <th>Steering_Controls_is_missing</th>\n",
       "    </tr>\n",
       "  </thead>\n",
       "  <tbody>\n",
       "    <tr>\n",
       "      <th>0</th>\n",
       "      <td>1646770</td>\n",
       "      <td>9500.0</td>\n",
       "      <td>1126363</td>\n",
       "      <td>8434</td>\n",
       "      <td>132</td>\n",
       "      <td>18.0</td>\n",
       "      <td>1974</td>\n",
       "      <td>0.0</td>\n",
       "      <td>0</td>\n",
       "      <td>4593</td>\n",
       "      <td>...</td>\n",
       "      <td>True</td>\n",
       "      <td>True</td>\n",
       "      <td>True</td>\n",
       "      <td>True</td>\n",
       "      <td>True</td>\n",
       "      <td>False</td>\n",
       "      <td>False</td>\n",
       "      <td>False</td>\n",
       "      <td>True</td>\n",
       "      <td>True</td>\n",
       "    </tr>\n",
       "    <tr>\n",
       "      <th>1</th>\n",
       "      <td>1821514</td>\n",
       "      <td>14000.0</td>\n",
       "      <td>1194089</td>\n",
       "      <td>10150</td>\n",
       "      <td>132</td>\n",
       "      <td>99.0</td>\n",
       "      <td>1980</td>\n",
       "      <td>0.0</td>\n",
       "      <td>0</td>\n",
       "      <td>1820</td>\n",
       "      <td>...</td>\n",
       "      <td>True</td>\n",
       "      <td>True</td>\n",
       "      <td>True</td>\n",
       "      <td>True</td>\n",
       "      <td>True</td>\n",
       "      <td>True</td>\n",
       "      <td>True</td>\n",
       "      <td>True</td>\n",
       "      <td>False</td>\n",
       "      <td>False</td>\n",
       "    </tr>\n",
       "    <tr>\n",
       "      <th>2</th>\n",
       "      <td>1505138</td>\n",
       "      <td>50000.0</td>\n",
       "      <td>1473654</td>\n",
       "      <td>4139</td>\n",
       "      <td>132</td>\n",
       "      <td>99.0</td>\n",
       "      <td>1978</td>\n",
       "      <td>0.0</td>\n",
       "      <td>0</td>\n",
       "      <td>2348</td>\n",
       "      <td>...</td>\n",
       "      <td>True</td>\n",
       "      <td>True</td>\n",
       "      <td>True</td>\n",
       "      <td>True</td>\n",
       "      <td>True</td>\n",
       "      <td>False</td>\n",
       "      <td>False</td>\n",
       "      <td>False</td>\n",
       "      <td>True</td>\n",
       "      <td>True</td>\n",
       "    </tr>\n",
       "    <tr>\n",
       "      <th>3</th>\n",
       "      <td>1671174</td>\n",
       "      <td>16000.0</td>\n",
       "      <td>1327630</td>\n",
       "      <td>8591</td>\n",
       "      <td>132</td>\n",
       "      <td>99.0</td>\n",
       "      <td>1980</td>\n",
       "      <td>0.0</td>\n",
       "      <td>0</td>\n",
       "      <td>1819</td>\n",
       "      <td>...</td>\n",
       "      <td>True</td>\n",
       "      <td>True</td>\n",
       "      <td>True</td>\n",
       "      <td>True</td>\n",
       "      <td>True</td>\n",
       "      <td>True</td>\n",
       "      <td>True</td>\n",
       "      <td>True</td>\n",
       "      <td>False</td>\n",
       "      <td>False</td>\n",
       "    </tr>\n",
       "    <tr>\n",
       "      <th>4</th>\n",
       "      <td>1329056</td>\n",
       "      <td>22000.0</td>\n",
       "      <td>1336053</td>\n",
       "      <td>4089</td>\n",
       "      <td>132</td>\n",
       "      <td>99.0</td>\n",
       "      <td>1984</td>\n",
       "      <td>0.0</td>\n",
       "      <td>0</td>\n",
       "      <td>2119</td>\n",
       "      <td>...</td>\n",
       "      <td>True</td>\n",
       "      <td>True</td>\n",
       "      <td>True</td>\n",
       "      <td>True</td>\n",
       "      <td>True</td>\n",
       "      <td>False</td>\n",
       "      <td>False</td>\n",
       "      <td>False</td>\n",
       "      <td>True</td>\n",
       "      <td>True</td>\n",
       "    </tr>\n",
       "  </tbody>\n",
       "</table>\n",
       "<p>5 rows × 116 columns</p>\n",
       "</div>"
      ],
      "text/plain": [
       "   SalesID  SalePrice  MachineID  ModelID  datasource  auctioneerID  YearMade  \\\n",
       "0  1646770     9500.0    1126363     8434         132          18.0      1974   \n",
       "1  1821514    14000.0    1194089    10150         132          99.0      1980   \n",
       "2  1505138    50000.0    1473654     4139         132          99.0      1978   \n",
       "3  1671174    16000.0    1327630     8591         132          99.0      1980   \n",
       "4  1329056    22000.0    1336053     4089         132          99.0      1984   \n",
       "\n",
       "   MachineHoursCurrentMeter  UsageBand  fiModelDesc  ...  \\\n",
       "0                       0.0          0         4593  ...   \n",
       "1                       0.0          0         1820  ...   \n",
       "2                       0.0          0         2348  ...   \n",
       "3                       0.0          0         1819  ...   \n",
       "4                       0.0          0         2119  ...   \n",
       "\n",
       "   Undercarriage_Pad_Width_is_missing  Stick_Length_is_missing  \\\n",
       "0                                True                     True   \n",
       "1                                True                     True   \n",
       "2                                True                     True   \n",
       "3                                True                     True   \n",
       "4                                True                     True   \n",
       "\n",
       "   Thumb_is_missing  Pattern_Changer_is_missing  Grouser_Type_is_missing  \\\n",
       "0              True                        True                     True   \n",
       "1              True                        True                     True   \n",
       "2              True                        True                     True   \n",
       "3              True                        True                     True   \n",
       "4              True                        True                     True   \n",
       "\n",
       "   Backhoe_Mounting_is_missing  Blade_Type_is_missing  \\\n",
       "0                        False                  False   \n",
       "1                         True                   True   \n",
       "2                        False                  False   \n",
       "3                         True                   True   \n",
       "4                        False                  False   \n",
       "\n",
       "   Travel_Controls_is_missing  Differential_Type_is_missing  \\\n",
       "0                       False                          True   \n",
       "1                        True                         False   \n",
       "2                       False                          True   \n",
       "3                        True                         False   \n",
       "4                       False                          True   \n",
       "\n",
       "   Steering_Controls_is_missing  \n",
       "0                          True  \n",
       "1                         False  \n",
       "2                          True  \n",
       "3                         False  \n",
       "4                          True  \n",
       "\n",
       "[5 rows x 116 columns]"
      ]
     },
     "execution_count": 29,
     "metadata": {},
     "output_type": "execute_result"
    }
   ],
   "source": [
    "df.head()"
   ]
  },
  {
   "cell_type": "code",
   "execution_count": 30,
   "id": "ff04e3ed",
   "metadata": {},
   "outputs": [
    {
     "name": "stdout",
     "output_type": "stream",
     "text": [
      "CPU times: user 12min 33s, sys: 7.66 s, total: 12min 40s\n",
      "Wall time: 1min 52s\n"
     ]
    },
    {
     "data": {
      "text/plain": [
       "RandomForestRegressor(n_jobs=-1, random_state=42)"
      ]
     },
     "execution_count": 30,
     "metadata": {},
     "output_type": "execute_result"
    }
   ],
   "source": [
    "%%time\n",
    "\n",
    "# Initialize and fit a model\n",
    "clf = RandomForestRegressor(n_jobs=-1,\n",
    "                           random_state=42)\n",
    "clf.fit(df.drop(columns=['SalePrice']), df['SalePrice'])"
   ]
  },
  {
   "cell_type": "code",
   "execution_count": 31,
   "id": "632bcd46",
   "metadata": {},
   "outputs": [
    {
     "data": {
      "text/plain": [
       "0.9875522516344091"
      ]
     },
     "execution_count": 31,
     "metadata": {},
     "output_type": "execute_result"
    }
   ],
   "source": [
    "# score the model (Not on Training Data)\n",
    "clf.score(df.drop(columns=['SalePrice']), df['SalePrice'])\n"
   ]
  },
  {
   "cell_type": "markdown",
   "id": "3539f1e1",
   "metadata": {},
   "source": [
    "* NOT AT ALL RELIABLE - EVALUATION DONE ON TRAINING DATA\n",
    "\n"
   ]
  },
  {
   "cell_type": "markdown",
   "id": "27a121ed",
   "metadata": {},
   "source": [
    "### Splitting Data into Training and Validation Sets"
   ]
  },
  {
   "cell_type": "code",
   "execution_count": 32,
   "id": "6f3e41cc",
   "metadata": {},
   "outputs": [],
   "source": [
    "train_df = df[df['saleYear'] < 2012]\n",
    "valid_df = df[df['saleYear'] >= 2012]"
   ]
  },
  {
   "cell_type": "code",
   "execution_count": 33,
   "id": "a2ce5269",
   "metadata": {},
   "outputs": [
    {
     "data": {
      "text/plain": [
       "((401125, 116), (11573, 116))"
      ]
     },
     "execution_count": 33,
     "metadata": {},
     "output_type": "execute_result"
    }
   ],
   "source": [
    "train_df.shape, valid_df.shape"
   ]
  },
  {
   "cell_type": "code",
   "execution_count": 34,
   "id": "9b2a75f1",
   "metadata": {},
   "outputs": [],
   "source": [
    "X_train, y_train = train_df.drop(columns=['SalePrice']), train_df['SalePrice']\n",
    "X_valid, y_valid = valid_df.drop(columns=['SalePrice']), valid_df['SalePrice']"
   ]
  },
  {
   "cell_type": "code",
   "execution_count": 35,
   "id": "b6248f36",
   "metadata": {},
   "outputs": [
    {
     "name": "stdout",
     "output_type": "stream",
     "text": [
      "CPU times: user 13min 11s, sys: 7.96 s, total: 13min 19s\n",
      "Wall time: 1min 58s\n"
     ]
    },
    {
     "data": {
      "text/plain": [
       "RandomForestRegressor(n_jobs=-1, random_state=42)"
      ]
     },
     "execution_count": 35,
     "metadata": {},
     "output_type": "execute_result"
    }
   ],
   "source": [
    "%%time\n",
    "\n",
    "# Training the model on TRAINING dataset\n",
    "clf = RandomForestRegressor(n_jobs=-1,\n",
    "                           random_state=42)\n",
    "\n",
    "clf.fit(X_train, y_train)"
   ]
  },
  {
   "cell_type": "code",
   "execution_count": 36,
   "id": "cd27c75f",
   "metadata": {},
   "outputs": [
    {
     "data": {
      "text/plain": [
       "0.8726982690582332"
      ]
     },
     "execution_count": 36,
     "metadata": {},
     "output_type": "execute_result"
    }
   ],
   "source": [
    "# Evaluate model on VALIDATION dataset\n",
    "\n",
    "clf.score(X_valid, y_valid)\n",
    "\n",
    "# default score value -> coefficient of determination -> R-squared value"
   ]
  },
  {
   "cell_type": "markdown",
   "id": "3a899f1e",
   "metadata": {},
   "source": [
    "#### Define Evaluation Function"
   ]
  },
  {
   "cell_type": "code",
   "execution_count": 37,
   "id": "c91921bb",
   "metadata": {},
   "outputs": [],
   "source": [
    "def rmsle(y_train, y_preds):\n",
    "    \"\"\"\n",
    "        Calculate RMSLE: ROOT MEAN SQUARE LOG ERROR\n",
    "    \"\"\"\n",
    "    return np.sqrt(mean_squared_log_error(y_train, y_preds))\n",
    "    "
   ]
  },
  {
   "cell_type": "markdown",
   "id": "9ce6ac53",
   "metadata": {},
   "source": [
    "#### Create dictionary for mutliple scores"
   ]
  },
  {
   "cell_type": "code",
   "execution_count": 38,
   "id": "5d2ee7b1",
   "metadata": {},
   "outputs": [],
   "source": [
    "def show_scores(model):\n",
    "    train_preds = model.predict(X_train)\n",
    "    valid_preds = model.predict(X_valid)\n",
    "    scores = {'Training MAE': mean_absolute_error(y_train, train_preds),\n",
    "             'Validation MAE': mean_absolute_error(y_valid, valid_preds),\n",
    "             'Training RMSLE': rmsle(y_train, train_preds),\n",
    "             'Validation RMSLE': rmsle(y_valid, valid_preds),\n",
    "             'Training R^2': r2_score(y_train, train_preds),\n",
    "             'Validation R^2': r2_score(y_train, train_preds)}\n",
    "    return scores"
   ]
  },
  {
   "cell_type": "markdown",
   "id": "cb793588",
   "metadata": {},
   "source": [
    "### Training model on subset of data"
   ]
  },
  {
   "cell_type": "code",
   "execution_count": 39,
   "id": "eaf2cbe9",
   "metadata": {},
   "outputs": [
    {
     "name": "stdout",
     "output_type": "stream",
     "text": [
      "CPU times: user 30.3 s, sys: 793 ms, total: 31.1 s\n",
      "Wall time: 7.51 s\n"
     ]
    },
    {
     "data": {
      "text/plain": [
       "RandomForestRegressor(max_samples=10000, n_jobs=-1, random_state=42)"
      ]
     },
     "execution_count": 39,
     "metadata": {},
     "output_type": "execute_result"
    }
   ],
   "source": [
    "%%time\n",
    "\n",
    "clf = RandomForestRegressor(n_jobs=-1,\n",
    "                           random_state=42,\n",
    "                           max_samples=10000)\n",
    "\n",
    "clf.fit(X_train, y_train)"
   ]
  },
  {
   "cell_type": "code",
   "execution_count": 40,
   "id": "23d0aebb",
   "metadata": {},
   "outputs": [
    {
     "data": {
      "text/plain": [
       "{'Training MAE': 5563.995093225304,\n",
       " 'Validation MAE': 7180.192253521126,\n",
       " 'Training RMSLE': 0.25783330238486774,\n",
       " 'Validation RMSLE': 0.2934204544366663,\n",
       " 'Training R^2': 0.860612499410264,\n",
       " 'Validation R^2': 0.860612499410264}"
      ]
     },
     "execution_count": 40,
     "metadata": {},
     "output_type": "execute_result"
    }
   ],
   "source": [
    "show_scores(clf)"
   ]
  },
  {
   "cell_type": "markdown",
   "id": "ab24a792",
   "metadata": {},
   "source": [
    "### Tune Hyper parameters to get better evaluation metric value"
   ]
  },
  {
   "cell_type": "code",
   "execution_count": 41,
   "id": "82204fd8",
   "metadata": {},
   "outputs": [],
   "source": [
    "# hyperparameter grid\n",
    "rf_grid = {'n_estimators': np.arange(10, 100, 10),\n",
    "          'max_depth': [None, 3, 5, 10],\n",
    "          'min_samples_split': np.arange(2, 20, 2),\n",
    "          'min_samples_leaf': np.arange(1, 20, 2),\n",
    "          'max_features': [0.5, 1, 'sqrt', 'auto'],\n",
    "          'max_samples': [10000]}\n"
   ]
  },
  {
   "cell_type": "code",
   "execution_count": 42,
   "id": "e7af6981",
   "metadata": {},
   "outputs": [
    {
     "name": "stdout",
     "output_type": "stream",
     "text": [
      "Fitting 5 folds for each of 100 candidates, totalling 500 fits\n"
     ]
    },
    {
     "ename": "KeyboardInterrupt",
     "evalue": "",
     "output_type": "error",
     "traceback": [
      "\u001b[0;31m---------------------------------------------------------------------------\u001b[0m",
      "\u001b[0;31mKeyboardInterrupt\u001b[0m                         Traceback (most recent call last)",
      "\u001b[0;32m<timed exec>\u001b[0m in \u001b[0;36m<module>\u001b[0;34m\u001b[0m\n",
      "\u001b[0;32m~/Desktop/ml-course/bulldozer-price-prediction/env/lib/python3.9/site-packages/sklearn/model_selection/_search.py\u001b[0m in \u001b[0;36mfit\u001b[0;34m(self, X, y, groups, **fit_params)\u001b[0m\n\u001b[1;32m    889\u001b[0m                 \u001b[0;32mreturn\u001b[0m \u001b[0mresults\u001b[0m\u001b[0;34m\u001b[0m\u001b[0;34m\u001b[0m\u001b[0m\n\u001b[1;32m    890\u001b[0m \u001b[0;34m\u001b[0m\u001b[0m\n\u001b[0;32m--> 891\u001b[0;31m             \u001b[0mself\u001b[0m\u001b[0;34m.\u001b[0m\u001b[0m_run_search\u001b[0m\u001b[0;34m(\u001b[0m\u001b[0mevaluate_candidates\u001b[0m\u001b[0;34m)\u001b[0m\u001b[0;34m\u001b[0m\u001b[0;34m\u001b[0m\u001b[0m\n\u001b[0m\u001b[1;32m    892\u001b[0m \u001b[0;34m\u001b[0m\u001b[0m\n\u001b[1;32m    893\u001b[0m             \u001b[0;31m# multimetric is determined here because in the case of a callable\u001b[0m\u001b[0;34m\u001b[0m\u001b[0;34m\u001b[0m\u001b[0m\n",
      "\u001b[0;32m~/Desktop/ml-course/bulldozer-price-prediction/env/lib/python3.9/site-packages/sklearn/model_selection/_search.py\u001b[0m in \u001b[0;36m_run_search\u001b[0;34m(self, evaluate_candidates)\u001b[0m\n\u001b[1;32m   1764\u001b[0m     \u001b[0;32mdef\u001b[0m \u001b[0m_run_search\u001b[0m\u001b[0;34m(\u001b[0m\u001b[0mself\u001b[0m\u001b[0;34m,\u001b[0m \u001b[0mevaluate_candidates\u001b[0m\u001b[0;34m)\u001b[0m\u001b[0;34m:\u001b[0m\u001b[0;34m\u001b[0m\u001b[0;34m\u001b[0m\u001b[0m\n\u001b[1;32m   1765\u001b[0m         \u001b[0;34m\"\"\"Search n_iter candidates from param_distributions\"\"\"\u001b[0m\u001b[0;34m\u001b[0m\u001b[0;34m\u001b[0m\u001b[0m\n\u001b[0;32m-> 1766\u001b[0;31m         evaluate_candidates(\n\u001b[0m\u001b[1;32m   1767\u001b[0m             ParameterSampler(\n\u001b[1;32m   1768\u001b[0m                 \u001b[0mself\u001b[0m\u001b[0;34m.\u001b[0m\u001b[0mparam_distributions\u001b[0m\u001b[0;34m,\u001b[0m \u001b[0mself\u001b[0m\u001b[0;34m.\u001b[0m\u001b[0mn_iter\u001b[0m\u001b[0;34m,\u001b[0m \u001b[0mrandom_state\u001b[0m\u001b[0;34m=\u001b[0m\u001b[0mself\u001b[0m\u001b[0;34m.\u001b[0m\u001b[0mrandom_state\u001b[0m\u001b[0;34m\u001b[0m\u001b[0;34m\u001b[0m\u001b[0m\n",
      "\u001b[0;32m~/Desktop/ml-course/bulldozer-price-prediction/env/lib/python3.9/site-packages/sklearn/model_selection/_search.py\u001b[0m in \u001b[0;36mevaluate_candidates\u001b[0;34m(candidate_params, cv, more_results)\u001b[0m\n\u001b[1;32m    836\u001b[0m                     )\n\u001b[1;32m    837\u001b[0m \u001b[0;34m\u001b[0m\u001b[0m\n\u001b[0;32m--> 838\u001b[0;31m                 out = parallel(\n\u001b[0m\u001b[1;32m    839\u001b[0m                     delayed(_fit_and_score)(\n\u001b[1;32m    840\u001b[0m                         \u001b[0mclone\u001b[0m\u001b[0;34m(\u001b[0m\u001b[0mbase_estimator\u001b[0m\u001b[0;34m)\u001b[0m\u001b[0;34m,\u001b[0m\u001b[0;34m\u001b[0m\u001b[0;34m\u001b[0m\u001b[0m\n",
      "\u001b[0;32m~/Desktop/ml-course/bulldozer-price-prediction/env/lib/python3.9/site-packages/joblib/parallel.py\u001b[0m in \u001b[0;36m__call__\u001b[0;34m(self, iterable)\u001b[0m\n\u001b[1;32m   1044\u001b[0m                 \u001b[0mself\u001b[0m\u001b[0;34m.\u001b[0m\u001b[0m_iterating\u001b[0m \u001b[0;34m=\u001b[0m \u001b[0mself\u001b[0m\u001b[0;34m.\u001b[0m\u001b[0m_original_iterator\u001b[0m \u001b[0;32mis\u001b[0m \u001b[0;32mnot\u001b[0m \u001b[0;32mNone\u001b[0m\u001b[0;34m\u001b[0m\u001b[0;34m\u001b[0m\u001b[0m\n\u001b[1;32m   1045\u001b[0m \u001b[0;34m\u001b[0m\u001b[0m\n\u001b[0;32m-> 1046\u001b[0;31m             \u001b[0;32mwhile\u001b[0m \u001b[0mself\u001b[0m\u001b[0;34m.\u001b[0m\u001b[0mdispatch_one_batch\u001b[0m\u001b[0;34m(\u001b[0m\u001b[0miterator\u001b[0m\u001b[0;34m)\u001b[0m\u001b[0;34m:\u001b[0m\u001b[0;34m\u001b[0m\u001b[0;34m\u001b[0m\u001b[0m\n\u001b[0m\u001b[1;32m   1047\u001b[0m                 \u001b[0;32mpass\u001b[0m\u001b[0;34m\u001b[0m\u001b[0;34m\u001b[0m\u001b[0m\n\u001b[1;32m   1048\u001b[0m \u001b[0;34m\u001b[0m\u001b[0m\n",
      "\u001b[0;32m~/Desktop/ml-course/bulldozer-price-prediction/env/lib/python3.9/site-packages/joblib/parallel.py\u001b[0m in \u001b[0;36mdispatch_one_batch\u001b[0;34m(self, iterator)\u001b[0m\n\u001b[1;32m    859\u001b[0m                 \u001b[0;32mreturn\u001b[0m \u001b[0;32mFalse\u001b[0m\u001b[0;34m\u001b[0m\u001b[0;34m\u001b[0m\u001b[0m\n\u001b[1;32m    860\u001b[0m             \u001b[0;32melse\u001b[0m\u001b[0;34m:\u001b[0m\u001b[0;34m\u001b[0m\u001b[0;34m\u001b[0m\u001b[0m\n\u001b[0;32m--> 861\u001b[0;31m                 \u001b[0mself\u001b[0m\u001b[0;34m.\u001b[0m\u001b[0m_dispatch\u001b[0m\u001b[0;34m(\u001b[0m\u001b[0mtasks\u001b[0m\u001b[0;34m)\u001b[0m\u001b[0;34m\u001b[0m\u001b[0;34m\u001b[0m\u001b[0m\n\u001b[0m\u001b[1;32m    862\u001b[0m                 \u001b[0;32mreturn\u001b[0m \u001b[0;32mTrue\u001b[0m\u001b[0;34m\u001b[0m\u001b[0;34m\u001b[0m\u001b[0m\n\u001b[1;32m    863\u001b[0m \u001b[0;34m\u001b[0m\u001b[0m\n",
      "\u001b[0;32m~/Desktop/ml-course/bulldozer-price-prediction/env/lib/python3.9/site-packages/joblib/parallel.py\u001b[0m in \u001b[0;36m_dispatch\u001b[0;34m(self, batch)\u001b[0m\n\u001b[1;32m    777\u001b[0m         \u001b[0;32mwith\u001b[0m \u001b[0mself\u001b[0m\u001b[0;34m.\u001b[0m\u001b[0m_lock\u001b[0m\u001b[0;34m:\u001b[0m\u001b[0;34m\u001b[0m\u001b[0;34m\u001b[0m\u001b[0m\n\u001b[1;32m    778\u001b[0m             \u001b[0mjob_idx\u001b[0m \u001b[0;34m=\u001b[0m \u001b[0mlen\u001b[0m\u001b[0;34m(\u001b[0m\u001b[0mself\u001b[0m\u001b[0;34m.\u001b[0m\u001b[0m_jobs\u001b[0m\u001b[0;34m)\u001b[0m\u001b[0;34m\u001b[0m\u001b[0;34m\u001b[0m\u001b[0m\n\u001b[0;32m--> 779\u001b[0;31m             \u001b[0mjob\u001b[0m \u001b[0;34m=\u001b[0m \u001b[0mself\u001b[0m\u001b[0;34m.\u001b[0m\u001b[0m_backend\u001b[0m\u001b[0;34m.\u001b[0m\u001b[0mapply_async\u001b[0m\u001b[0;34m(\u001b[0m\u001b[0mbatch\u001b[0m\u001b[0;34m,\u001b[0m \u001b[0mcallback\u001b[0m\u001b[0;34m=\u001b[0m\u001b[0mcb\u001b[0m\u001b[0;34m)\u001b[0m\u001b[0;34m\u001b[0m\u001b[0;34m\u001b[0m\u001b[0m\n\u001b[0m\u001b[1;32m    780\u001b[0m             \u001b[0;31m# A job can complete so quickly than its callback is\u001b[0m\u001b[0;34m\u001b[0m\u001b[0;34m\u001b[0m\u001b[0m\n\u001b[1;32m    781\u001b[0m             \u001b[0;31m# called before we get here, causing self._jobs to\u001b[0m\u001b[0;34m\u001b[0m\u001b[0;34m\u001b[0m\u001b[0m\n",
      "\u001b[0;32m~/Desktop/ml-course/bulldozer-price-prediction/env/lib/python3.9/site-packages/joblib/_parallel_backends.py\u001b[0m in \u001b[0;36mapply_async\u001b[0;34m(self, func, callback)\u001b[0m\n\u001b[1;32m    206\u001b[0m     \u001b[0;32mdef\u001b[0m \u001b[0mapply_async\u001b[0m\u001b[0;34m(\u001b[0m\u001b[0mself\u001b[0m\u001b[0;34m,\u001b[0m \u001b[0mfunc\u001b[0m\u001b[0;34m,\u001b[0m \u001b[0mcallback\u001b[0m\u001b[0;34m=\u001b[0m\u001b[0;32mNone\u001b[0m\u001b[0;34m)\u001b[0m\u001b[0;34m:\u001b[0m\u001b[0;34m\u001b[0m\u001b[0;34m\u001b[0m\u001b[0m\n\u001b[1;32m    207\u001b[0m         \u001b[0;34m\"\"\"Schedule a func to be run\"\"\"\u001b[0m\u001b[0;34m\u001b[0m\u001b[0;34m\u001b[0m\u001b[0m\n\u001b[0;32m--> 208\u001b[0;31m         \u001b[0mresult\u001b[0m \u001b[0;34m=\u001b[0m \u001b[0mImmediateResult\u001b[0m\u001b[0;34m(\u001b[0m\u001b[0mfunc\u001b[0m\u001b[0;34m)\u001b[0m\u001b[0;34m\u001b[0m\u001b[0;34m\u001b[0m\u001b[0m\n\u001b[0m\u001b[1;32m    209\u001b[0m         \u001b[0;32mif\u001b[0m \u001b[0mcallback\u001b[0m\u001b[0;34m:\u001b[0m\u001b[0;34m\u001b[0m\u001b[0;34m\u001b[0m\u001b[0m\n\u001b[1;32m    210\u001b[0m             \u001b[0mcallback\u001b[0m\u001b[0;34m(\u001b[0m\u001b[0mresult\u001b[0m\u001b[0;34m)\u001b[0m\u001b[0;34m\u001b[0m\u001b[0;34m\u001b[0m\u001b[0m\n",
      "\u001b[0;32m~/Desktop/ml-course/bulldozer-price-prediction/env/lib/python3.9/site-packages/joblib/_parallel_backends.py\u001b[0m in \u001b[0;36m__init__\u001b[0;34m(self, batch)\u001b[0m\n\u001b[1;32m    570\u001b[0m         \u001b[0;31m# Don't delay the application, to avoid keeping the input\u001b[0m\u001b[0;34m\u001b[0m\u001b[0;34m\u001b[0m\u001b[0m\n\u001b[1;32m    571\u001b[0m         \u001b[0;31m# arguments in memory\u001b[0m\u001b[0;34m\u001b[0m\u001b[0;34m\u001b[0m\u001b[0m\n\u001b[0;32m--> 572\u001b[0;31m         \u001b[0mself\u001b[0m\u001b[0;34m.\u001b[0m\u001b[0mresults\u001b[0m \u001b[0;34m=\u001b[0m \u001b[0mbatch\u001b[0m\u001b[0;34m(\u001b[0m\u001b[0;34m)\u001b[0m\u001b[0;34m\u001b[0m\u001b[0;34m\u001b[0m\u001b[0m\n\u001b[0m\u001b[1;32m    573\u001b[0m \u001b[0;34m\u001b[0m\u001b[0m\n\u001b[1;32m    574\u001b[0m     \u001b[0;32mdef\u001b[0m \u001b[0mget\u001b[0m\u001b[0;34m(\u001b[0m\u001b[0mself\u001b[0m\u001b[0;34m)\u001b[0m\u001b[0;34m:\u001b[0m\u001b[0;34m\u001b[0m\u001b[0;34m\u001b[0m\u001b[0m\n",
      "\u001b[0;32m~/Desktop/ml-course/bulldozer-price-prediction/env/lib/python3.9/site-packages/joblib/parallel.py\u001b[0m in \u001b[0;36m__call__\u001b[0;34m(self)\u001b[0m\n\u001b[1;32m    260\u001b[0m         \u001b[0;31m# change the default number of processes to -1\u001b[0m\u001b[0;34m\u001b[0m\u001b[0;34m\u001b[0m\u001b[0m\n\u001b[1;32m    261\u001b[0m         \u001b[0;32mwith\u001b[0m \u001b[0mparallel_backend\u001b[0m\u001b[0;34m(\u001b[0m\u001b[0mself\u001b[0m\u001b[0;34m.\u001b[0m\u001b[0m_backend\u001b[0m\u001b[0;34m,\u001b[0m \u001b[0mn_jobs\u001b[0m\u001b[0;34m=\u001b[0m\u001b[0mself\u001b[0m\u001b[0;34m.\u001b[0m\u001b[0m_n_jobs\u001b[0m\u001b[0;34m)\u001b[0m\u001b[0;34m:\u001b[0m\u001b[0;34m\u001b[0m\u001b[0;34m\u001b[0m\u001b[0m\n\u001b[0;32m--> 262\u001b[0;31m             return [func(*args, **kwargs)\n\u001b[0m\u001b[1;32m    263\u001b[0m                     for func, args, kwargs in self.items]\n\u001b[1;32m    264\u001b[0m \u001b[0;34m\u001b[0m\u001b[0m\n",
      "\u001b[0;32m~/Desktop/ml-course/bulldozer-price-prediction/env/lib/python3.9/site-packages/joblib/parallel.py\u001b[0m in \u001b[0;36m<listcomp>\u001b[0;34m(.0)\u001b[0m\n\u001b[1;32m    260\u001b[0m         \u001b[0;31m# change the default number of processes to -1\u001b[0m\u001b[0;34m\u001b[0m\u001b[0;34m\u001b[0m\u001b[0m\n\u001b[1;32m    261\u001b[0m         \u001b[0;32mwith\u001b[0m \u001b[0mparallel_backend\u001b[0m\u001b[0;34m(\u001b[0m\u001b[0mself\u001b[0m\u001b[0;34m.\u001b[0m\u001b[0m_backend\u001b[0m\u001b[0;34m,\u001b[0m \u001b[0mn_jobs\u001b[0m\u001b[0;34m=\u001b[0m\u001b[0mself\u001b[0m\u001b[0;34m.\u001b[0m\u001b[0m_n_jobs\u001b[0m\u001b[0;34m)\u001b[0m\u001b[0;34m:\u001b[0m\u001b[0;34m\u001b[0m\u001b[0;34m\u001b[0m\u001b[0m\n\u001b[0;32m--> 262\u001b[0;31m             return [func(*args, **kwargs)\n\u001b[0m\u001b[1;32m    263\u001b[0m                     for func, args, kwargs in self.items]\n\u001b[1;32m    264\u001b[0m \u001b[0;34m\u001b[0m\u001b[0m\n",
      "\u001b[0;32m~/Desktop/ml-course/bulldozer-price-prediction/env/lib/python3.9/site-packages/sklearn/utils/fixes.py\u001b[0m in \u001b[0;36m__call__\u001b[0;34m(self, *args, **kwargs)\u001b[0m\n\u001b[1;32m    214\u001b[0m     \u001b[0;32mdef\u001b[0m \u001b[0m__call__\u001b[0m\u001b[0;34m(\u001b[0m\u001b[0mself\u001b[0m\u001b[0;34m,\u001b[0m \u001b[0;34m*\u001b[0m\u001b[0margs\u001b[0m\u001b[0;34m,\u001b[0m \u001b[0;34m**\u001b[0m\u001b[0mkwargs\u001b[0m\u001b[0;34m)\u001b[0m\u001b[0;34m:\u001b[0m\u001b[0;34m\u001b[0m\u001b[0;34m\u001b[0m\u001b[0m\n\u001b[1;32m    215\u001b[0m         \u001b[0;32mwith\u001b[0m \u001b[0mconfig_context\u001b[0m\u001b[0;34m(\u001b[0m\u001b[0;34m**\u001b[0m\u001b[0mself\u001b[0m\u001b[0;34m.\u001b[0m\u001b[0mconfig\u001b[0m\u001b[0;34m)\u001b[0m\u001b[0;34m:\u001b[0m\u001b[0;34m\u001b[0m\u001b[0;34m\u001b[0m\u001b[0m\n\u001b[0;32m--> 216\u001b[0;31m             \u001b[0;32mreturn\u001b[0m \u001b[0mself\u001b[0m\u001b[0;34m.\u001b[0m\u001b[0mfunction\u001b[0m\u001b[0;34m(\u001b[0m\u001b[0;34m*\u001b[0m\u001b[0margs\u001b[0m\u001b[0;34m,\u001b[0m \u001b[0;34m**\u001b[0m\u001b[0mkwargs\u001b[0m\u001b[0;34m)\u001b[0m\u001b[0;34m\u001b[0m\u001b[0;34m\u001b[0m\u001b[0m\n\u001b[0m\u001b[1;32m    217\u001b[0m \u001b[0;34m\u001b[0m\u001b[0m\n\u001b[1;32m    218\u001b[0m \u001b[0;34m\u001b[0m\u001b[0m\n",
      "\u001b[0;32m~/Desktop/ml-course/bulldozer-price-prediction/env/lib/python3.9/site-packages/sklearn/model_selection/_validation.py\u001b[0m in \u001b[0;36m_fit_and_score\u001b[0;34m(estimator, X, y, scorer, train, test, verbose, parameters, fit_params, return_train_score, return_parameters, return_n_test_samples, return_times, return_estimator, split_progress, candidate_progress, error_score)\u001b[0m\n\u001b[1;32m    678\u001b[0m             \u001b[0mestimator\u001b[0m\u001b[0;34m.\u001b[0m\u001b[0mfit\u001b[0m\u001b[0;34m(\u001b[0m\u001b[0mX_train\u001b[0m\u001b[0;34m,\u001b[0m \u001b[0;34m**\u001b[0m\u001b[0mfit_params\u001b[0m\u001b[0;34m)\u001b[0m\u001b[0;34m\u001b[0m\u001b[0;34m\u001b[0m\u001b[0m\n\u001b[1;32m    679\u001b[0m         \u001b[0;32melse\u001b[0m\u001b[0;34m:\u001b[0m\u001b[0;34m\u001b[0m\u001b[0;34m\u001b[0m\u001b[0m\n\u001b[0;32m--> 680\u001b[0;31m             \u001b[0mestimator\u001b[0m\u001b[0;34m.\u001b[0m\u001b[0mfit\u001b[0m\u001b[0;34m(\u001b[0m\u001b[0mX_train\u001b[0m\u001b[0;34m,\u001b[0m \u001b[0my_train\u001b[0m\u001b[0;34m,\u001b[0m \u001b[0;34m**\u001b[0m\u001b[0mfit_params\u001b[0m\u001b[0;34m)\u001b[0m\u001b[0;34m\u001b[0m\u001b[0;34m\u001b[0m\u001b[0m\n\u001b[0m\u001b[1;32m    681\u001b[0m \u001b[0;34m\u001b[0m\u001b[0m\n\u001b[1;32m    682\u001b[0m     \u001b[0;32mexcept\u001b[0m \u001b[0mException\u001b[0m\u001b[0;34m:\u001b[0m\u001b[0;34m\u001b[0m\u001b[0;34m\u001b[0m\u001b[0m\n",
      "\u001b[0;32m~/Desktop/ml-course/bulldozer-price-prediction/env/lib/python3.9/site-packages/sklearn/ensemble/_forest.py\u001b[0m in \u001b[0;36mfit\u001b[0;34m(self, X, y, sample_weight)\u001b[0m\n\u001b[1;32m    325\u001b[0m         \u001b[0;32mif\u001b[0m \u001b[0missparse\u001b[0m\u001b[0;34m(\u001b[0m\u001b[0my\u001b[0m\u001b[0;34m)\u001b[0m\u001b[0;34m:\u001b[0m\u001b[0;34m\u001b[0m\u001b[0;34m\u001b[0m\u001b[0m\n\u001b[1;32m    326\u001b[0m             \u001b[0;32mraise\u001b[0m \u001b[0mValueError\u001b[0m\u001b[0;34m(\u001b[0m\u001b[0;34m\"sparse multilabel-indicator for y is not supported.\"\u001b[0m\u001b[0;34m)\u001b[0m\u001b[0;34m\u001b[0m\u001b[0;34m\u001b[0m\u001b[0m\n\u001b[0;32m--> 327\u001b[0;31m         X, y = self._validate_data(\n\u001b[0m\u001b[1;32m    328\u001b[0m             \u001b[0mX\u001b[0m\u001b[0;34m,\u001b[0m \u001b[0my\u001b[0m\u001b[0;34m,\u001b[0m \u001b[0mmulti_output\u001b[0m\u001b[0;34m=\u001b[0m\u001b[0;32mTrue\u001b[0m\u001b[0;34m,\u001b[0m \u001b[0maccept_sparse\u001b[0m\u001b[0;34m=\u001b[0m\u001b[0;34m\"csc\"\u001b[0m\u001b[0;34m,\u001b[0m \u001b[0mdtype\u001b[0m\u001b[0;34m=\u001b[0m\u001b[0mDTYPE\u001b[0m\u001b[0;34m\u001b[0m\u001b[0;34m\u001b[0m\u001b[0m\n\u001b[1;32m    329\u001b[0m         )\n",
      "\u001b[0;32m~/Desktop/ml-course/bulldozer-price-prediction/env/lib/python3.9/site-packages/sklearn/base.py\u001b[0m in \u001b[0;36m_validate_data\u001b[0;34m(self, X, y, reset, validate_separately, **check_params)\u001b[0m\n\u001b[1;32m    579\u001b[0m                 \u001b[0my\u001b[0m \u001b[0;34m=\u001b[0m \u001b[0mcheck_array\u001b[0m\u001b[0;34m(\u001b[0m\u001b[0my\u001b[0m\u001b[0;34m,\u001b[0m \u001b[0;34m**\u001b[0m\u001b[0mcheck_y_params\u001b[0m\u001b[0;34m)\u001b[0m\u001b[0;34m\u001b[0m\u001b[0;34m\u001b[0m\u001b[0m\n\u001b[1;32m    580\u001b[0m             \u001b[0;32melse\u001b[0m\u001b[0;34m:\u001b[0m\u001b[0;34m\u001b[0m\u001b[0;34m\u001b[0m\u001b[0m\n\u001b[0;32m--> 581\u001b[0;31m                 \u001b[0mX\u001b[0m\u001b[0;34m,\u001b[0m \u001b[0my\u001b[0m \u001b[0;34m=\u001b[0m \u001b[0mcheck_X_y\u001b[0m\u001b[0;34m(\u001b[0m\u001b[0mX\u001b[0m\u001b[0;34m,\u001b[0m \u001b[0my\u001b[0m\u001b[0;34m,\u001b[0m \u001b[0;34m**\u001b[0m\u001b[0mcheck_params\u001b[0m\u001b[0;34m)\u001b[0m\u001b[0;34m\u001b[0m\u001b[0;34m\u001b[0m\u001b[0m\n\u001b[0m\u001b[1;32m    582\u001b[0m             \u001b[0mout\u001b[0m \u001b[0;34m=\u001b[0m \u001b[0mX\u001b[0m\u001b[0;34m,\u001b[0m \u001b[0my\u001b[0m\u001b[0;34m\u001b[0m\u001b[0;34m\u001b[0m\u001b[0m\n\u001b[1;32m    583\u001b[0m \u001b[0;34m\u001b[0m\u001b[0m\n",
      "\u001b[0;32m~/Desktop/ml-course/bulldozer-price-prediction/env/lib/python3.9/site-packages/sklearn/utils/validation.py\u001b[0m in \u001b[0;36mcheck_X_y\u001b[0;34m(X, y, accept_sparse, accept_large_sparse, dtype, order, copy, force_all_finite, ensure_2d, allow_nd, multi_output, ensure_min_samples, ensure_min_features, y_numeric, estimator)\u001b[0m\n\u001b[1;32m    962\u001b[0m         \u001b[0;32mraise\u001b[0m \u001b[0mValueError\u001b[0m\u001b[0;34m(\u001b[0m\u001b[0;34m\"y cannot be None\"\u001b[0m\u001b[0;34m)\u001b[0m\u001b[0;34m\u001b[0m\u001b[0;34m\u001b[0m\u001b[0m\n\u001b[1;32m    963\u001b[0m \u001b[0;34m\u001b[0m\u001b[0m\n\u001b[0;32m--> 964\u001b[0;31m     X = check_array(\n\u001b[0m\u001b[1;32m    965\u001b[0m         \u001b[0mX\u001b[0m\u001b[0;34m,\u001b[0m\u001b[0;34m\u001b[0m\u001b[0;34m\u001b[0m\u001b[0m\n\u001b[1;32m    966\u001b[0m         \u001b[0maccept_sparse\u001b[0m\u001b[0;34m=\u001b[0m\u001b[0maccept_sparse\u001b[0m\u001b[0;34m,\u001b[0m\u001b[0;34m\u001b[0m\u001b[0;34m\u001b[0m\u001b[0m\n",
      "\u001b[0;32m~/Desktop/ml-course/bulldozer-price-prediction/env/lib/python3.9/site-packages/sklearn/utils/validation.py\u001b[0m in \u001b[0;36mcheck_array\u001b[0;34m(array, accept_sparse, accept_large_sparse, dtype, order, copy, force_all_finite, ensure_2d, allow_nd, ensure_min_samples, ensure_min_features, estimator)\u001b[0m\n\u001b[1;32m    744\u001b[0m                     \u001b[0marray\u001b[0m \u001b[0;34m=\u001b[0m \u001b[0marray\u001b[0m\u001b[0;34m.\u001b[0m\u001b[0mastype\u001b[0m\u001b[0;34m(\u001b[0m\u001b[0mdtype\u001b[0m\u001b[0;34m,\u001b[0m \u001b[0mcasting\u001b[0m\u001b[0;34m=\u001b[0m\u001b[0;34m\"unsafe\"\u001b[0m\u001b[0;34m,\u001b[0m \u001b[0mcopy\u001b[0m\u001b[0;34m=\u001b[0m\u001b[0;32mFalse\u001b[0m\u001b[0;34m)\u001b[0m\u001b[0;34m\u001b[0m\u001b[0;34m\u001b[0m\u001b[0m\n\u001b[1;32m    745\u001b[0m                 \u001b[0;32melse\u001b[0m\u001b[0;34m:\u001b[0m\u001b[0;34m\u001b[0m\u001b[0;34m\u001b[0m\u001b[0m\n\u001b[0;32m--> 746\u001b[0;31m                     \u001b[0marray\u001b[0m \u001b[0;34m=\u001b[0m \u001b[0mnp\u001b[0m\u001b[0;34m.\u001b[0m\u001b[0masarray\u001b[0m\u001b[0;34m(\u001b[0m\u001b[0marray\u001b[0m\u001b[0;34m,\u001b[0m \u001b[0morder\u001b[0m\u001b[0;34m=\u001b[0m\u001b[0morder\u001b[0m\u001b[0;34m,\u001b[0m \u001b[0mdtype\u001b[0m\u001b[0;34m=\u001b[0m\u001b[0mdtype\u001b[0m\u001b[0;34m)\u001b[0m\u001b[0;34m\u001b[0m\u001b[0;34m\u001b[0m\u001b[0m\n\u001b[0m\u001b[1;32m    747\u001b[0m             \u001b[0;32mexcept\u001b[0m \u001b[0mComplexWarning\u001b[0m \u001b[0;32mas\u001b[0m \u001b[0mcomplex_warning\u001b[0m\u001b[0;34m:\u001b[0m\u001b[0;34m\u001b[0m\u001b[0;34m\u001b[0m\u001b[0m\n\u001b[1;32m    748\u001b[0m                 raise ValueError(\n",
      "\u001b[0;32m~/Desktop/ml-course/bulldozer-price-prediction/env/lib/python3.9/site-packages/pandas/core/generic.py\u001b[0m in \u001b[0;36m__array__\u001b[0;34m(self, dtype)\u001b[0m\n\u001b[1;32m   1991\u001b[0m \u001b[0;34m\u001b[0m\u001b[0m\n\u001b[1;32m   1992\u001b[0m     \u001b[0;32mdef\u001b[0m \u001b[0m__array__\u001b[0m\u001b[0;34m(\u001b[0m\u001b[0mself\u001b[0m\u001b[0;34m,\u001b[0m \u001b[0mdtype\u001b[0m\u001b[0;34m:\u001b[0m \u001b[0mNpDtype\u001b[0m \u001b[0;34m|\u001b[0m \u001b[0;32mNone\u001b[0m \u001b[0;34m=\u001b[0m \u001b[0;32mNone\u001b[0m\u001b[0;34m)\u001b[0m \u001b[0;34m->\u001b[0m \u001b[0mnp\u001b[0m\u001b[0;34m.\u001b[0m\u001b[0mndarray\u001b[0m\u001b[0;34m:\u001b[0m\u001b[0;34m\u001b[0m\u001b[0;34m\u001b[0m\u001b[0m\n\u001b[0;32m-> 1993\u001b[0;31m         \u001b[0;32mreturn\u001b[0m \u001b[0mnp\u001b[0m\u001b[0;34m.\u001b[0m\u001b[0masarray\u001b[0m\u001b[0;34m(\u001b[0m\u001b[0mself\u001b[0m\u001b[0;34m.\u001b[0m\u001b[0m_values\u001b[0m\u001b[0;34m,\u001b[0m \u001b[0mdtype\u001b[0m\u001b[0;34m=\u001b[0m\u001b[0mdtype\u001b[0m\u001b[0;34m)\u001b[0m\u001b[0;34m\u001b[0m\u001b[0;34m\u001b[0m\u001b[0m\n\u001b[0m\u001b[1;32m   1994\u001b[0m \u001b[0;34m\u001b[0m\u001b[0m\n\u001b[1;32m   1995\u001b[0m     def __array_wrap__(\n",
      "\u001b[0;31mKeyboardInterrupt\u001b[0m: "
     ]
    }
   ],
   "source": [
    "%%time\n",
    "\n",
    "# Instatiate RandomizedSearchCV model\n",
    "rs_clf = RandomizedSearchCV(RandomForestRegressor(n_jobs=-1,\n",
    "                                                 random_state=42),\n",
    "                           param_distributions=rf_grid,\n",
    "                           n_iter=100,\n",
    "                           cv=5,\n",
    "                           verbose=True)\n",
    "\n",
    "# Fit RandomizedSearchCV model\n",
    "rs_clf.fit(X_train, y_train)"
   ]
  },
  {
   "cell_type": "code",
   "execution_count": 43,
   "id": "49ca7977",
   "metadata": {},
   "outputs": [
    {
     "ename": "AttributeError",
     "evalue": "'RandomizedSearchCV' object has no attribute 'best_params_'",
     "output_type": "error",
     "traceback": [
      "\u001b[0;31m---------------------------------------------------------------------------\u001b[0m",
      "\u001b[0;31mAttributeError\u001b[0m                            Traceback (most recent call last)",
      "\u001b[0;32m/var/folders/sk/dc8xmpjs5q58mzps5dpybdd80000gn/T/ipykernel_2152/3217686458.py\u001b[0m in \u001b[0;36m<module>\u001b[0;34m\u001b[0m\n\u001b[1;32m      1\u001b[0m \u001b[0;31m# Find the best params\u001b[0m\u001b[0;34m\u001b[0m\u001b[0;34m\u001b[0m\u001b[0m\n\u001b[0;32m----> 2\u001b[0;31m \u001b[0mrs_clf\u001b[0m\u001b[0;34m.\u001b[0m\u001b[0mbest_params_\u001b[0m\u001b[0;34m\u001b[0m\u001b[0;34m\u001b[0m\u001b[0m\n\u001b[0m",
      "\u001b[0;31mAttributeError\u001b[0m: 'RandomizedSearchCV' object has no attribute 'best_params_'"
     ]
    }
   ],
   "source": [
    "# Find the best params\n",
    "rs_clf.best_params_"
   ]
  },
  {
   "cell_type": "code",
   "execution_count": null,
   "id": "f4327594",
   "metadata": {},
   "outputs": [],
   "source": [
    "# evaluated new optimized model\n",
    "show_scores(rs_clf)"
   ]
  },
  {
   "cell_type": "markdown",
   "id": "c7373b67",
   "metadata": {},
   "source": [
    "## Train a model with best possible hyper parameters\n",
    "\n"
   ]
  },
  {
   "cell_type": "code",
   "execution_count": 44,
   "id": "03052069",
   "metadata": {},
   "outputs": [
    {
     "name": "stdout",
     "output_type": "stream",
     "text": [
      "CPU times: user 2min 13s, sys: 1.18 s, total: 2min 14s\n",
      "Wall time: 20.1 s\n"
     ]
    },
    {
     "data": {
      "text/plain": [
       "RandomForestRegressor(max_features=0.5, min_samples_split=14, n_estimators=40,\n",
       "                      n_jobs=-1, random_state=42)"
      ]
     },
     "execution_count": 44,
     "metadata": {},
     "output_type": "execute_result"
    }
   ],
   "source": [
    "%%time\n",
    "\n",
    "ideal_model = RandomForestRegressor(n_estimators=40,\n",
    "                                    min_samples_leaf=1,\n",
    "                                    min_samples_split=14,\n",
    "                                    max_features=0.5,\n",
    "                                    max_samples=None,\n",
    "                                   n_jobs=-1,\n",
    "                                   random_state=42)\n",
    "\n",
    "ideal_model.fit(X_train, y_train)"
   ]
  },
  {
   "cell_type": "code",
   "execution_count": 45,
   "id": "c2c615b1",
   "metadata": {},
   "outputs": [
    {
     "data": {
      "text/plain": [
       "{'Training MAE': 2951.610867570722,\n",
       " 'Validation MAE': 5948.651377925434,\n",
       " 'Training RMSLE': 0.14455966972847278,\n",
       " 'Validation RMSLE': 0.24550021627455845,\n",
       " 'Training R^2': 0.9588952693755304,\n",
       " 'Validation R^2': 0.9588952693755304}"
      ]
     },
     "execution_count": 45,
     "metadata": {},
     "output_type": "execute_result"
    }
   ],
   "source": [
    "# scores of ideal model\n",
    "show_scores(ideal_model)"
   ]
  },
  {
   "cell_type": "code",
   "execution_count": 46,
   "id": "828b29d6",
   "metadata": {},
   "outputs": [],
   "source": [
    "# export and save model\n"
   ]
  },
  {
   "cell_type": "markdown",
   "id": "502d5cbf",
   "metadata": {},
   "source": [
    "## Make Predictions on the Test Data"
   ]
  },
  {
   "cell_type": "code",
   "execution_count": 47,
   "id": "d262381d",
   "metadata": {},
   "outputs": [
    {
     "data": {
      "text/html": [
       "<div>\n",
       "<style scoped>\n",
       "    .dataframe tbody tr th:only-of-type {\n",
       "        vertical-align: middle;\n",
       "    }\n",
       "\n",
       "    .dataframe tbody tr th {\n",
       "        vertical-align: top;\n",
       "    }\n",
       "\n",
       "    .dataframe thead th {\n",
       "        text-align: right;\n",
       "    }\n",
       "</style>\n",
       "<table border=\"1\" class=\"dataframe\">\n",
       "  <thead>\n",
       "    <tr style=\"text-align: right;\">\n",
       "      <th></th>\n",
       "      <th>SalesID</th>\n",
       "      <th>MachineID</th>\n",
       "      <th>ModelID</th>\n",
       "      <th>datasource</th>\n",
       "      <th>auctioneerID</th>\n",
       "      <th>YearMade</th>\n",
       "      <th>MachineHoursCurrentMeter</th>\n",
       "      <th>UsageBand</th>\n",
       "      <th>saledate</th>\n",
       "      <th>fiModelDesc</th>\n",
       "      <th>...</th>\n",
       "      <th>Undercarriage_Pad_Width</th>\n",
       "      <th>Stick_Length</th>\n",
       "      <th>Thumb</th>\n",
       "      <th>Pattern_Changer</th>\n",
       "      <th>Grouser_Type</th>\n",
       "      <th>Backhoe_Mounting</th>\n",
       "      <th>Blade_Type</th>\n",
       "      <th>Travel_Controls</th>\n",
       "      <th>Differential_Type</th>\n",
       "      <th>Steering_Controls</th>\n",
       "    </tr>\n",
       "  </thead>\n",
       "  <tbody>\n",
       "    <tr>\n",
       "      <th>0</th>\n",
       "      <td>1227829</td>\n",
       "      <td>1006309</td>\n",
       "      <td>3168</td>\n",
       "      <td>121</td>\n",
       "      <td>3</td>\n",
       "      <td>1999</td>\n",
       "      <td>3688.0</td>\n",
       "      <td>Low</td>\n",
       "      <td>2012-05-03</td>\n",
       "      <td>580G</td>\n",
       "      <td>...</td>\n",
       "      <td>NaN</td>\n",
       "      <td>NaN</td>\n",
       "      <td>NaN</td>\n",
       "      <td>NaN</td>\n",
       "      <td>NaN</td>\n",
       "      <td>NaN</td>\n",
       "      <td>NaN</td>\n",
       "      <td>NaN</td>\n",
       "      <td>NaN</td>\n",
       "      <td>NaN</td>\n",
       "    </tr>\n",
       "    <tr>\n",
       "      <th>1</th>\n",
       "      <td>1227844</td>\n",
       "      <td>1022817</td>\n",
       "      <td>7271</td>\n",
       "      <td>121</td>\n",
       "      <td>3</td>\n",
       "      <td>1000</td>\n",
       "      <td>28555.0</td>\n",
       "      <td>High</td>\n",
       "      <td>2012-05-10</td>\n",
       "      <td>936</td>\n",
       "      <td>...</td>\n",
       "      <td>NaN</td>\n",
       "      <td>NaN</td>\n",
       "      <td>NaN</td>\n",
       "      <td>NaN</td>\n",
       "      <td>NaN</td>\n",
       "      <td>NaN</td>\n",
       "      <td>NaN</td>\n",
       "      <td>NaN</td>\n",
       "      <td>Standard</td>\n",
       "      <td>Conventional</td>\n",
       "    </tr>\n",
       "    <tr>\n",
       "      <th>2</th>\n",
       "      <td>1227847</td>\n",
       "      <td>1031560</td>\n",
       "      <td>22805</td>\n",
       "      <td>121</td>\n",
       "      <td>3</td>\n",
       "      <td>2004</td>\n",
       "      <td>6038.0</td>\n",
       "      <td>Medium</td>\n",
       "      <td>2012-05-10</td>\n",
       "      <td>EC210BLC</td>\n",
       "      <td>...</td>\n",
       "      <td>None or Unspecified</td>\n",
       "      <td>9' 6\"</td>\n",
       "      <td>Manual</td>\n",
       "      <td>None or Unspecified</td>\n",
       "      <td>Double</td>\n",
       "      <td>NaN</td>\n",
       "      <td>NaN</td>\n",
       "      <td>NaN</td>\n",
       "      <td>NaN</td>\n",
       "      <td>NaN</td>\n",
       "    </tr>\n",
       "    <tr>\n",
       "      <th>3</th>\n",
       "      <td>1227848</td>\n",
       "      <td>56204</td>\n",
       "      <td>1269</td>\n",
       "      <td>121</td>\n",
       "      <td>3</td>\n",
       "      <td>2006</td>\n",
       "      <td>8940.0</td>\n",
       "      <td>High</td>\n",
       "      <td>2012-05-10</td>\n",
       "      <td>330CL</td>\n",
       "      <td>...</td>\n",
       "      <td>None or Unspecified</td>\n",
       "      <td>None or Unspecified</td>\n",
       "      <td>Manual</td>\n",
       "      <td>Yes</td>\n",
       "      <td>Triple</td>\n",
       "      <td>NaN</td>\n",
       "      <td>NaN</td>\n",
       "      <td>NaN</td>\n",
       "      <td>NaN</td>\n",
       "      <td>NaN</td>\n",
       "    </tr>\n",
       "    <tr>\n",
       "      <th>4</th>\n",
       "      <td>1227863</td>\n",
       "      <td>1053887</td>\n",
       "      <td>22312</td>\n",
       "      <td>121</td>\n",
       "      <td>3</td>\n",
       "      <td>2005</td>\n",
       "      <td>2286.0</td>\n",
       "      <td>Low</td>\n",
       "      <td>2012-05-10</td>\n",
       "      <td>650K</td>\n",
       "      <td>...</td>\n",
       "      <td>NaN</td>\n",
       "      <td>NaN</td>\n",
       "      <td>NaN</td>\n",
       "      <td>NaN</td>\n",
       "      <td>NaN</td>\n",
       "      <td>None or Unspecified</td>\n",
       "      <td>PAT</td>\n",
       "      <td>None or Unspecified</td>\n",
       "      <td>NaN</td>\n",
       "      <td>NaN</td>\n",
       "    </tr>\n",
       "  </tbody>\n",
       "</table>\n",
       "<p>5 rows × 52 columns</p>\n",
       "</div>"
      ],
      "text/plain": [
       "   SalesID  MachineID  ModelID  datasource  auctioneerID  YearMade  \\\n",
       "0  1227829    1006309     3168         121             3      1999   \n",
       "1  1227844    1022817     7271         121             3      1000   \n",
       "2  1227847    1031560    22805         121             3      2004   \n",
       "3  1227848      56204     1269         121             3      2006   \n",
       "4  1227863    1053887    22312         121             3      2005   \n",
       "\n",
       "   MachineHoursCurrentMeter UsageBand   saledate fiModelDesc  ...  \\\n",
       "0                    3688.0       Low 2012-05-03        580G  ...   \n",
       "1                   28555.0      High 2012-05-10         936  ...   \n",
       "2                    6038.0    Medium 2012-05-10    EC210BLC  ...   \n",
       "3                    8940.0      High 2012-05-10       330CL  ...   \n",
       "4                    2286.0       Low 2012-05-10        650K  ...   \n",
       "\n",
       "  Undercarriage_Pad_Width         Stick_Length   Thumb      Pattern_Changer  \\\n",
       "0                     NaN                  NaN     NaN                  NaN   \n",
       "1                     NaN                  NaN     NaN                  NaN   \n",
       "2     None or Unspecified                9' 6\"  Manual  None or Unspecified   \n",
       "3     None or Unspecified  None or Unspecified  Manual                  Yes   \n",
       "4                     NaN                  NaN     NaN                  NaN   \n",
       "\n",
       "  Grouser_Type     Backhoe_Mounting Blade_Type      Travel_Controls  \\\n",
       "0          NaN                  NaN        NaN                  NaN   \n",
       "1          NaN                  NaN        NaN                  NaN   \n",
       "2       Double                  NaN        NaN                  NaN   \n",
       "3       Triple                  NaN        NaN                  NaN   \n",
       "4          NaN  None or Unspecified        PAT  None or Unspecified   \n",
       "\n",
       "  Differential_Type Steering_Controls  \n",
       "0               NaN               NaN  \n",
       "1          Standard      Conventional  \n",
       "2               NaN               NaN  \n",
       "3               NaN               NaN  \n",
       "4               NaN               NaN  \n",
       "\n",
       "[5 rows x 52 columns]"
      ]
     },
     "execution_count": 47,
     "metadata": {},
     "output_type": "execute_result"
    }
   ],
   "source": [
    "# import test data\n",
    "df_test = pd.read_csv('data/bluebook-for-bulldozers/Test.csv',\n",
    "                      parse_dates=['saledate'])\n",
    "df_test.head()"
   ]
  },
  {
   "cell_type": "code",
   "execution_count": 48,
   "id": "43727bd2",
   "metadata": {},
   "outputs": [],
   "source": [
    "# Test data has to be pre-processed before Making predictions\n",
    "def preprocess_data(df = df):\n",
    "    \"\"\"\n",
    "        Performs transformations on dataframe passed as parmeter and returns the same\n",
    "    \"\"\"\n",
    "    # enrich data with date-time parameters\n",
    "    df['saleYear'] = df.saledate.dt.year\n",
    "    df['saleMonth'] = df.saledate.dt.month\n",
    "    df['saleDay'] = df.saledate.dt.day\n",
    "    df['saleDayofWeek'] = df.saledate.dt.dayofweek\n",
    "    df['saleDayofYear'] = df.saledate.dt.dayofyear\n",
    "    df['saleQuarterOfYear'] = df.saledate.dt.quarter\n",
    "    df.drop(columns='saledate',inplace=True)\n",
    "    \n",
    "    # Fill numeric missing values with median\n",
    "    for label, content in df.items():\n",
    "    # check if numeric\n",
    "        if pd.api.types.is_numeric_dtype(content):\n",
    "            # create a binary column for tracking\n",
    "            # AND check if Null values are there or Not\n",
    "            df[label+'_is_missing'] = pd.isnull(content)\n",
    "            # fill missing value by median\n",
    "            df[label] = content.fillna(content.median())\n",
    "    # Fill non-numeric missing categorical data and turn into numeric \n",
    "        # check if Non Numeric\n",
    "        if not pd.api.types.is_numeric_dtype(content):\n",
    "            # create a binary column for tracking\n",
    "            # AND check if Missing values are there or Not\n",
    "            df[label+'_is_missing'] = pd.isnull(content)\n",
    "            # Non numeric CATEGORICAL columns with Missing values are assigned -1 Category code by default\n",
    "            # Hence, incrementing category code\n",
    "            df[label] = pd.Categorical(content).codes +1\n",
    "    \n",
    "    return df"
   ]
  },
  {
   "cell_type": "code",
   "execution_count": 49,
   "id": "9b4a2484",
   "metadata": {},
   "outputs": [],
   "source": [
    "# Make predictions on the test data\n",
    "df_test = preprocess_data(df_test)"
   ]
  },
  {
   "cell_type": "code",
   "execution_count": 50,
   "id": "70e8ef83",
   "metadata": {},
   "outputs": [
    {
     "data": {
      "text/html": [
       "<div>\n",
       "<style scoped>\n",
       "    .dataframe tbody tr th:only-of-type {\n",
       "        vertical-align: middle;\n",
       "    }\n",
       "\n",
       "    .dataframe tbody tr th {\n",
       "        vertical-align: top;\n",
       "    }\n",
       "\n",
       "    .dataframe thead th {\n",
       "        text-align: right;\n",
       "    }\n",
       "</style>\n",
       "<table border=\"1\" class=\"dataframe\">\n",
       "  <thead>\n",
       "    <tr style=\"text-align: right;\">\n",
       "      <th></th>\n",
       "      <th>SalesID</th>\n",
       "      <th>MachineID</th>\n",
       "      <th>ModelID</th>\n",
       "      <th>datasource</th>\n",
       "      <th>auctioneerID</th>\n",
       "      <th>YearMade</th>\n",
       "      <th>MachineHoursCurrentMeter</th>\n",
       "      <th>UsageBand</th>\n",
       "      <th>fiModelDesc</th>\n",
       "      <th>fiBaseModel</th>\n",
       "      <th>...</th>\n",
       "      <th>Blade_Type_is_missing</th>\n",
       "      <th>Travel_Controls_is_missing</th>\n",
       "      <th>Differential_Type_is_missing</th>\n",
       "      <th>Steering_Controls_is_missing</th>\n",
       "      <th>saleYear_is_missing</th>\n",
       "      <th>saleMonth_is_missing</th>\n",
       "      <th>saleDay_is_missing</th>\n",
       "      <th>saleDayofWeek_is_missing</th>\n",
       "      <th>saleDayofYear_is_missing</th>\n",
       "      <th>saleQuarterOfYear_is_missing</th>\n",
       "    </tr>\n",
       "  </thead>\n",
       "  <tbody>\n",
       "    <tr>\n",
       "      <th>0</th>\n",
       "      <td>1227829</td>\n",
       "      <td>1006309</td>\n",
       "      <td>3168</td>\n",
       "      <td>121</td>\n",
       "      <td>3</td>\n",
       "      <td>1999</td>\n",
       "      <td>3688.0</td>\n",
       "      <td>2</td>\n",
       "      <td>499</td>\n",
       "      <td>180</td>\n",
       "      <td>...</td>\n",
       "      <td>True</td>\n",
       "      <td>True</td>\n",
       "      <td>True</td>\n",
       "      <td>True</td>\n",
       "      <td>False</td>\n",
       "      <td>False</td>\n",
       "      <td>False</td>\n",
       "      <td>False</td>\n",
       "      <td>False</td>\n",
       "      <td>False</td>\n",
       "    </tr>\n",
       "    <tr>\n",
       "      <th>1</th>\n",
       "      <td>1227844</td>\n",
       "      <td>1022817</td>\n",
       "      <td>7271</td>\n",
       "      <td>121</td>\n",
       "      <td>3</td>\n",
       "      <td>1000</td>\n",
       "      <td>28555.0</td>\n",
       "      <td>1</td>\n",
       "      <td>831</td>\n",
       "      <td>292</td>\n",
       "      <td>...</td>\n",
       "      <td>True</td>\n",
       "      <td>True</td>\n",
       "      <td>False</td>\n",
       "      <td>False</td>\n",
       "      <td>False</td>\n",
       "      <td>False</td>\n",
       "      <td>False</td>\n",
       "      <td>False</td>\n",
       "      <td>False</td>\n",
       "      <td>False</td>\n",
       "    </tr>\n",
       "    <tr>\n",
       "      <th>2</th>\n",
       "      <td>1227847</td>\n",
       "      <td>1031560</td>\n",
       "      <td>22805</td>\n",
       "      <td>121</td>\n",
       "      <td>3</td>\n",
       "      <td>2004</td>\n",
       "      <td>6038.0</td>\n",
       "      <td>3</td>\n",
       "      <td>1177</td>\n",
       "      <td>404</td>\n",
       "      <td>...</td>\n",
       "      <td>True</td>\n",
       "      <td>True</td>\n",
       "      <td>True</td>\n",
       "      <td>True</td>\n",
       "      <td>False</td>\n",
       "      <td>False</td>\n",
       "      <td>False</td>\n",
       "      <td>False</td>\n",
       "      <td>False</td>\n",
       "      <td>False</td>\n",
       "    </tr>\n",
       "    <tr>\n",
       "      <th>3</th>\n",
       "      <td>1227848</td>\n",
       "      <td>56204</td>\n",
       "      <td>1269</td>\n",
       "      <td>121</td>\n",
       "      <td>3</td>\n",
       "      <td>2006</td>\n",
       "      <td>8940.0</td>\n",
       "      <td>1</td>\n",
       "      <td>287</td>\n",
       "      <td>113</td>\n",
       "      <td>...</td>\n",
       "      <td>True</td>\n",
       "      <td>True</td>\n",
       "      <td>True</td>\n",
       "      <td>True</td>\n",
       "      <td>False</td>\n",
       "      <td>False</td>\n",
       "      <td>False</td>\n",
       "      <td>False</td>\n",
       "      <td>False</td>\n",
       "      <td>False</td>\n",
       "    </tr>\n",
       "    <tr>\n",
       "      <th>4</th>\n",
       "      <td>1227863</td>\n",
       "      <td>1053887</td>\n",
       "      <td>22312</td>\n",
       "      <td>121</td>\n",
       "      <td>3</td>\n",
       "      <td>2005</td>\n",
       "      <td>2286.0</td>\n",
       "      <td>2</td>\n",
       "      <td>566</td>\n",
       "      <td>196</td>\n",
       "      <td>...</td>\n",
       "      <td>False</td>\n",
       "      <td>False</td>\n",
       "      <td>True</td>\n",
       "      <td>True</td>\n",
       "      <td>False</td>\n",
       "      <td>False</td>\n",
       "      <td>False</td>\n",
       "      <td>False</td>\n",
       "      <td>False</td>\n",
       "      <td>False</td>\n",
       "    </tr>\n",
       "  </tbody>\n",
       "</table>\n",
       "<p>5 rows × 114 columns</p>\n",
       "</div>"
      ],
      "text/plain": [
       "   SalesID  MachineID  ModelID  datasource  auctioneerID  YearMade  \\\n",
       "0  1227829    1006309     3168         121             3      1999   \n",
       "1  1227844    1022817     7271         121             3      1000   \n",
       "2  1227847    1031560    22805         121             3      2004   \n",
       "3  1227848      56204     1269         121             3      2006   \n",
       "4  1227863    1053887    22312         121             3      2005   \n",
       "\n",
       "   MachineHoursCurrentMeter  UsageBand  fiModelDesc  fiBaseModel  ...  \\\n",
       "0                    3688.0          2          499          180  ...   \n",
       "1                   28555.0          1          831          292  ...   \n",
       "2                    6038.0          3         1177          404  ...   \n",
       "3                    8940.0          1          287          113  ...   \n",
       "4                    2286.0          2          566          196  ...   \n",
       "\n",
       "   Blade_Type_is_missing  Travel_Controls_is_missing  \\\n",
       "0                   True                        True   \n",
       "1                   True                        True   \n",
       "2                   True                        True   \n",
       "3                   True                        True   \n",
       "4                  False                       False   \n",
       "\n",
       "   Differential_Type_is_missing  Steering_Controls_is_missing  \\\n",
       "0                          True                          True   \n",
       "1                         False                         False   \n",
       "2                          True                          True   \n",
       "3                          True                          True   \n",
       "4                          True                          True   \n",
       "\n",
       "   saleYear_is_missing  saleMonth_is_missing  saleDay_is_missing  \\\n",
       "0                False                 False               False   \n",
       "1                False                 False               False   \n",
       "2                False                 False               False   \n",
       "3                False                 False               False   \n",
       "4                False                 False               False   \n",
       "\n",
       "   saleDayofWeek_is_missing  saleDayofYear_is_missing  \\\n",
       "0                     False                     False   \n",
       "1                     False                     False   \n",
       "2                     False                     False   \n",
       "3                     False                     False   \n",
       "4                     False                     False   \n",
       "\n",
       "   saleQuarterOfYear_is_missing  \n",
       "0                         False  \n",
       "1                         False  \n",
       "2                         False  \n",
       "3                         False  \n",
       "4                         False  \n",
       "\n",
       "[5 rows x 114 columns]"
      ]
     },
     "execution_count": 50,
     "metadata": {},
     "output_type": "execute_result"
    }
   ],
   "source": [
    "df_test.head()"
   ]
  },
  {
   "cell_type": "code",
   "execution_count": 51,
   "id": "9953605e",
   "metadata": {},
   "outputs": [
    {
     "data": {
      "text/plain": [
       "(401125, 115)"
      ]
     },
     "execution_count": 51,
     "metadata": {},
     "output_type": "execute_result"
    }
   ],
   "source": [
    "X_train.shape"
   ]
  },
  {
   "cell_type": "code",
   "execution_count": 52,
   "id": "99f7f55a",
   "metadata": {},
   "outputs": [],
   "source": [
    "# Mak Predictions on updated test data\n",
    "# test_preds = ideal_model.predict(df_test)"
   ]
  },
  {
   "cell_type": "code",
   "execution_count": 53,
   "id": "fd831dbf",
   "metadata": {},
   "outputs": [
    {
     "data": {
      "text/plain": [
       "{'SalePrice_is_missing'}"
      ]
     },
     "execution_count": 53,
     "metadata": {},
     "output_type": "execute_result"
    }
   ],
   "source": [
    "# There is a difference in number of columns on which model is trained vs number of columns in test dataset\n",
    "# We can find the missing column(s) by creating python sets \n",
    "set(X_train.columns)-set(df_test.columns)"
   ]
  },
  {
   "cell_type": "code",
   "execution_count": 54,
   "id": "fc507209",
   "metadata": {},
   "outputs": [],
   "source": [
    "# Fix the missing column issue\n",
    "\n",
    "df_test['SalePrice_is_missing']=False"
   ]
  },
  {
   "cell_type": "code",
   "execution_count": 55,
   "id": "e0df21d5",
   "metadata": {},
   "outputs": [
    {
     "data": {
      "text/html": [
       "<div>\n",
       "<style scoped>\n",
       "    .dataframe tbody tr th:only-of-type {\n",
       "        vertical-align: middle;\n",
       "    }\n",
       "\n",
       "    .dataframe tbody tr th {\n",
       "        vertical-align: top;\n",
       "    }\n",
       "\n",
       "    .dataframe thead th {\n",
       "        text-align: right;\n",
       "    }\n",
       "</style>\n",
       "<table border=\"1\" class=\"dataframe\">\n",
       "  <thead>\n",
       "    <tr style=\"text-align: right;\">\n",
       "      <th></th>\n",
       "      <th>SalesID</th>\n",
       "      <th>MachineID</th>\n",
       "      <th>ModelID</th>\n",
       "      <th>datasource</th>\n",
       "      <th>auctioneerID</th>\n",
       "      <th>YearMade</th>\n",
       "      <th>MachineHoursCurrentMeter</th>\n",
       "      <th>UsageBand</th>\n",
       "      <th>fiModelDesc</th>\n",
       "      <th>fiBaseModel</th>\n",
       "      <th>...</th>\n",
       "      <th>Travel_Controls_is_missing</th>\n",
       "      <th>Differential_Type_is_missing</th>\n",
       "      <th>Steering_Controls_is_missing</th>\n",
       "      <th>saleYear_is_missing</th>\n",
       "      <th>saleMonth_is_missing</th>\n",
       "      <th>saleDay_is_missing</th>\n",
       "      <th>saleDayofWeek_is_missing</th>\n",
       "      <th>saleDayofYear_is_missing</th>\n",
       "      <th>saleQuarterOfYear_is_missing</th>\n",
       "      <th>SalePrice_is_missing</th>\n",
       "    </tr>\n",
       "  </thead>\n",
       "  <tbody>\n",
       "    <tr>\n",
       "      <th>0</th>\n",
       "      <td>1227829</td>\n",
       "      <td>1006309</td>\n",
       "      <td>3168</td>\n",
       "      <td>121</td>\n",
       "      <td>3</td>\n",
       "      <td>1999</td>\n",
       "      <td>3688.0</td>\n",
       "      <td>2</td>\n",
       "      <td>499</td>\n",
       "      <td>180</td>\n",
       "      <td>...</td>\n",
       "      <td>True</td>\n",
       "      <td>True</td>\n",
       "      <td>True</td>\n",
       "      <td>False</td>\n",
       "      <td>False</td>\n",
       "      <td>False</td>\n",
       "      <td>False</td>\n",
       "      <td>False</td>\n",
       "      <td>False</td>\n",
       "      <td>False</td>\n",
       "    </tr>\n",
       "    <tr>\n",
       "      <th>1</th>\n",
       "      <td>1227844</td>\n",
       "      <td>1022817</td>\n",
       "      <td>7271</td>\n",
       "      <td>121</td>\n",
       "      <td>3</td>\n",
       "      <td>1000</td>\n",
       "      <td>28555.0</td>\n",
       "      <td>1</td>\n",
       "      <td>831</td>\n",
       "      <td>292</td>\n",
       "      <td>...</td>\n",
       "      <td>True</td>\n",
       "      <td>False</td>\n",
       "      <td>False</td>\n",
       "      <td>False</td>\n",
       "      <td>False</td>\n",
       "      <td>False</td>\n",
       "      <td>False</td>\n",
       "      <td>False</td>\n",
       "      <td>False</td>\n",
       "      <td>False</td>\n",
       "    </tr>\n",
       "    <tr>\n",
       "      <th>2</th>\n",
       "      <td>1227847</td>\n",
       "      <td>1031560</td>\n",
       "      <td>22805</td>\n",
       "      <td>121</td>\n",
       "      <td>3</td>\n",
       "      <td>2004</td>\n",
       "      <td>6038.0</td>\n",
       "      <td>3</td>\n",
       "      <td>1177</td>\n",
       "      <td>404</td>\n",
       "      <td>...</td>\n",
       "      <td>True</td>\n",
       "      <td>True</td>\n",
       "      <td>True</td>\n",
       "      <td>False</td>\n",
       "      <td>False</td>\n",
       "      <td>False</td>\n",
       "      <td>False</td>\n",
       "      <td>False</td>\n",
       "      <td>False</td>\n",
       "      <td>False</td>\n",
       "    </tr>\n",
       "    <tr>\n",
       "      <th>3</th>\n",
       "      <td>1227848</td>\n",
       "      <td>56204</td>\n",
       "      <td>1269</td>\n",
       "      <td>121</td>\n",
       "      <td>3</td>\n",
       "      <td>2006</td>\n",
       "      <td>8940.0</td>\n",
       "      <td>1</td>\n",
       "      <td>287</td>\n",
       "      <td>113</td>\n",
       "      <td>...</td>\n",
       "      <td>True</td>\n",
       "      <td>True</td>\n",
       "      <td>True</td>\n",
       "      <td>False</td>\n",
       "      <td>False</td>\n",
       "      <td>False</td>\n",
       "      <td>False</td>\n",
       "      <td>False</td>\n",
       "      <td>False</td>\n",
       "      <td>False</td>\n",
       "    </tr>\n",
       "    <tr>\n",
       "      <th>4</th>\n",
       "      <td>1227863</td>\n",
       "      <td>1053887</td>\n",
       "      <td>22312</td>\n",
       "      <td>121</td>\n",
       "      <td>3</td>\n",
       "      <td>2005</td>\n",
       "      <td>2286.0</td>\n",
       "      <td>2</td>\n",
       "      <td>566</td>\n",
       "      <td>196</td>\n",
       "      <td>...</td>\n",
       "      <td>False</td>\n",
       "      <td>True</td>\n",
       "      <td>True</td>\n",
       "      <td>False</td>\n",
       "      <td>False</td>\n",
       "      <td>False</td>\n",
       "      <td>False</td>\n",
       "      <td>False</td>\n",
       "      <td>False</td>\n",
       "      <td>False</td>\n",
       "    </tr>\n",
       "  </tbody>\n",
       "</table>\n",
       "<p>5 rows × 115 columns</p>\n",
       "</div>"
      ],
      "text/plain": [
       "   SalesID  MachineID  ModelID  datasource  auctioneerID  YearMade  \\\n",
       "0  1227829    1006309     3168         121             3      1999   \n",
       "1  1227844    1022817     7271         121             3      1000   \n",
       "2  1227847    1031560    22805         121             3      2004   \n",
       "3  1227848      56204     1269         121             3      2006   \n",
       "4  1227863    1053887    22312         121             3      2005   \n",
       "\n",
       "   MachineHoursCurrentMeter  UsageBand  fiModelDesc  fiBaseModel  ...  \\\n",
       "0                    3688.0          2          499          180  ...   \n",
       "1                   28555.0          1          831          292  ...   \n",
       "2                    6038.0          3         1177          404  ...   \n",
       "3                    8940.0          1          287          113  ...   \n",
       "4                    2286.0          2          566          196  ...   \n",
       "\n",
       "   Travel_Controls_is_missing  Differential_Type_is_missing  \\\n",
       "0                        True                          True   \n",
       "1                        True                         False   \n",
       "2                        True                          True   \n",
       "3                        True                          True   \n",
       "4                       False                          True   \n",
       "\n",
       "   Steering_Controls_is_missing  saleYear_is_missing  saleMonth_is_missing  \\\n",
       "0                          True                False                 False   \n",
       "1                         False                False                 False   \n",
       "2                          True                False                 False   \n",
       "3                          True                False                 False   \n",
       "4                          True                False                 False   \n",
       "\n",
       "   saleDay_is_missing  saleDayofWeek_is_missing  saleDayofYear_is_missing  \\\n",
       "0               False                     False                     False   \n",
       "1               False                     False                     False   \n",
       "2               False                     False                     False   \n",
       "3               False                     False                     False   \n",
       "4               False                     False                     False   \n",
       "\n",
       "   saleQuarterOfYear_is_missing  SalePrice_is_missing  \n",
       "0                         False                 False  \n",
       "1                         False                 False  \n",
       "2                         False                 False  \n",
       "3                         False                 False  \n",
       "4                         False                 False  \n",
       "\n",
       "[5 rows x 115 columns]"
      ]
     },
     "execution_count": 55,
     "metadata": {},
     "output_type": "execute_result"
    }
   ],
   "source": [
    "df_test.head()"
   ]
  },
  {
   "cell_type": "code",
   "execution_count": 56,
   "id": "1b232a5f",
   "metadata": {},
   "outputs": [],
   "source": [
    "# Make Predictions on test data with added missing column\n",
    "\n",
    "test_preds = ideal_model.predict(df_test)"
   ]
  },
  {
   "cell_type": "code",
   "execution_count": 57,
   "id": "989d0ebc",
   "metadata": {},
   "outputs": [
    {
     "data": {
      "text/plain": [
       "(12457,)"
      ]
     },
     "execution_count": 57,
     "metadata": {},
     "output_type": "execute_result"
    }
   ],
   "source": [
    "test_preds.shape"
   ]
  },
  {
   "cell_type": "markdown",
   "id": "2df9cf09",
   "metadata": {},
   "source": [
    "# Format predictions into KAGGLE's format of SUBMISSION FILE\n",
    "https://www.kaggle.com/c/bluebook-for-bulldozers/overview/evaluation"
   ]
  },
  {
   "cell_type": "code",
   "execution_count": 58,
   "id": "3cd17d2a",
   "metadata": {},
   "outputs": [],
   "source": [
    "df_preds = pd.DataFrame()\n",
    "df_preds['SalesID'] = df_test['SalesID']\n",
    "df_preds['SalesPrice'] = test_preds"
   ]
  },
  {
   "cell_type": "code",
   "execution_count": 59,
   "id": "f6e66fa5",
   "metadata": {},
   "outputs": [
    {
     "data": {
      "text/html": [
       "<div>\n",
       "<style scoped>\n",
       "    .dataframe tbody tr th:only-of-type {\n",
       "        vertical-align: middle;\n",
       "    }\n",
       "\n",
       "    .dataframe tbody tr th {\n",
       "        vertical-align: top;\n",
       "    }\n",
       "\n",
       "    .dataframe thead th {\n",
       "        text-align: right;\n",
       "    }\n",
       "</style>\n",
       "<table border=\"1\" class=\"dataframe\">\n",
       "  <thead>\n",
       "    <tr style=\"text-align: right;\">\n",
       "      <th></th>\n",
       "      <th>SalesID</th>\n",
       "      <th>SalesPrice</th>\n",
       "    </tr>\n",
       "  </thead>\n",
       "  <tbody>\n",
       "    <tr>\n",
       "      <th>0</th>\n",
       "      <td>1227829</td>\n",
       "      <td>17825.023621</td>\n",
       "    </tr>\n",
       "    <tr>\n",
       "      <th>1</th>\n",
       "      <td>1227844</td>\n",
       "      <td>22071.711538</td>\n",
       "    </tr>\n",
       "    <tr>\n",
       "      <th>2</th>\n",
       "      <td>1227847</td>\n",
       "      <td>40992.052159</td>\n",
       "    </tr>\n",
       "    <tr>\n",
       "      <th>3</th>\n",
       "      <td>1227848</td>\n",
       "      <td>62882.205142</td>\n",
       "    </tr>\n",
       "    <tr>\n",
       "      <th>4</th>\n",
       "      <td>1227863</td>\n",
       "      <td>42274.123300</td>\n",
       "    </tr>\n",
       "    <tr>\n",
       "      <th>...</th>\n",
       "      <td>...</td>\n",
       "      <td>...</td>\n",
       "    </tr>\n",
       "    <tr>\n",
       "      <th>12452</th>\n",
       "      <td>6643171</td>\n",
       "      <td>51685.832087</td>\n",
       "    </tr>\n",
       "    <tr>\n",
       "      <th>12453</th>\n",
       "      <td>6643173</td>\n",
       "      <td>24105.459640</td>\n",
       "    </tr>\n",
       "    <tr>\n",
       "      <th>12454</th>\n",
       "      <td>6643184</td>\n",
       "      <td>13485.700259</td>\n",
       "    </tr>\n",
       "    <tr>\n",
       "      <th>12455</th>\n",
       "      <td>6643186</td>\n",
       "      <td>26182.140910</td>\n",
       "    </tr>\n",
       "    <tr>\n",
       "      <th>12456</th>\n",
       "      <td>6643196</td>\n",
       "      <td>33926.569456</td>\n",
       "    </tr>\n",
       "  </tbody>\n",
       "</table>\n",
       "<p>12457 rows × 2 columns</p>\n",
       "</div>"
      ],
      "text/plain": [
       "       SalesID    SalesPrice\n",
       "0      1227829  17825.023621\n",
       "1      1227844  22071.711538\n",
       "2      1227847  40992.052159\n",
       "3      1227848  62882.205142\n",
       "4      1227863  42274.123300\n",
       "...        ...           ...\n",
       "12452  6643171  51685.832087\n",
       "12453  6643173  24105.459640\n",
       "12454  6643184  13485.700259\n",
       "12455  6643186  26182.140910\n",
       "12456  6643196  33926.569456\n",
       "\n",
       "[12457 rows x 2 columns]"
      ]
     },
     "execution_count": 59,
     "metadata": {},
     "output_type": "execute_result"
    }
   ],
   "source": [
    "df_preds"
   ]
  },
  {
   "cell_type": "code",
   "execution_count": 60,
   "id": "66381480",
   "metadata": {},
   "outputs": [],
   "source": [
    "# export predictions to csv\n",
    "\n",
    "df_preds.to_csv('data/bluebook-for-bulldozers/test_predictions.csv', index=False)"
   ]
  },
  {
   "cell_type": "markdown",
   "id": "5baed11f",
   "metadata": {},
   "source": [
    "## Calculating Feature Importances\n",
    "> Which different attributes or features were most important when it comes to predicting the target (`SalePrice`)"
   ]
  },
  {
   "cell_type": "code",
   "execution_count": 76,
   "id": "2945eae5",
   "metadata": {},
   "outputs": [],
   "source": [
    "imp = pd.DataFrame()\n",
    "imp['Column Name'] = df_test.columns\n",
    "imp['Importance'] = ideal_model.feature_importances_"
   ]
  },
  {
   "cell_type": "code",
   "execution_count": 77,
   "id": "5764be73",
   "metadata": {},
   "outputs": [],
   "source": [
    "imp['Importance'] = imp['Importance']*100"
   ]
  },
  {
   "cell_type": "code",
   "execution_count": 78,
   "id": "d808f366",
   "metadata": {},
   "outputs": [
    {
     "data": {
      "text/html": [
       "<div>\n",
       "<style scoped>\n",
       "    .dataframe tbody tr th:only-of-type {\n",
       "        vertical-align: middle;\n",
       "    }\n",
       "\n",
       "    .dataframe tbody tr th {\n",
       "        vertical-align: top;\n",
       "    }\n",
       "\n",
       "    .dataframe thead th {\n",
       "        text-align: right;\n",
       "    }\n",
       "</style>\n",
       "<table border=\"1\" class=\"dataframe\">\n",
       "  <thead>\n",
       "    <tr style=\"text-align: right;\">\n",
       "      <th></th>\n",
       "      <th>Column Name</th>\n",
       "      <th>Importance</th>\n",
       "    </tr>\n",
       "  </thead>\n",
       "  <tbody>\n",
       "    <tr>\n",
       "      <th>0</th>\n",
       "      <td>SalesID</td>\n",
       "      <td>3.416578</td>\n",
       "    </tr>\n",
       "    <tr>\n",
       "      <th>1</th>\n",
       "      <td>MachineID</td>\n",
       "      <td>1.636881</td>\n",
       "    </tr>\n",
       "    <tr>\n",
       "      <th>2</th>\n",
       "      <td>ModelID</td>\n",
       "      <td>3.821063</td>\n",
       "    </tr>\n",
       "    <tr>\n",
       "      <th>5</th>\n",
       "      <td>YearMade</td>\n",
       "      <td>20.847658</td>\n",
       "    </tr>\n",
       "    <tr>\n",
       "      <th>8</th>\n",
       "      <td>fiModelDesc</td>\n",
       "      <td>5.384984</td>\n",
       "    </tr>\n",
       "    <tr>\n",
       "      <th>9</th>\n",
       "      <td>fiBaseModel</td>\n",
       "      <td>4.080059</td>\n",
       "    </tr>\n",
       "    <tr>\n",
       "      <th>10</th>\n",
       "      <td>fiSecondaryDesc</td>\n",
       "      <td>6.441720</td>\n",
       "    </tr>\n",
       "    <tr>\n",
       "      <th>12</th>\n",
       "      <td>fiModelDescriptor</td>\n",
       "      <td>1.926331</td>\n",
       "    </tr>\n",
       "    <tr>\n",
       "      <th>13</th>\n",
       "      <td>ProductSize</td>\n",
       "      <td>16.906828</td>\n",
       "    </tr>\n",
       "    <tr>\n",
       "      <th>14</th>\n",
       "      <td>fiProductClassDesc</td>\n",
       "      <td>3.961925</td>\n",
       "    </tr>\n",
       "    <tr>\n",
       "      <th>19</th>\n",
       "      <td>Enclosure</td>\n",
       "      <td>5.723531</td>\n",
       "    </tr>\n",
       "    <tr>\n",
       "      <th>35</th>\n",
       "      <td>Tire_Size</td>\n",
       "      <td>1.003302</td>\n",
       "    </tr>\n",
       "    <tr>\n",
       "      <th>37</th>\n",
       "      <td>Coupler_System</td>\n",
       "      <td>1.159309</td>\n",
       "    </tr>\n",
       "    <tr>\n",
       "      <th>51</th>\n",
       "      <td>saleYear</td>\n",
       "      <td>7.357204</td>\n",
       "    </tr>\n",
       "    <tr>\n",
       "      <th>77</th>\n",
       "      <td>Forks_is_missing</td>\n",
       "      <td>2.244524</td>\n",
       "    </tr>\n",
       "    <tr>\n",
       "      <th>101</th>\n",
       "      <td>Pattern_Changer_is_missing</td>\n",
       "      <td>1.372766</td>\n",
       "    </tr>\n",
       "  </tbody>\n",
       "</table>\n",
       "</div>"
      ],
      "text/plain": [
       "                    Column Name  Importance\n",
       "0                       SalesID    3.416578\n",
       "1                     MachineID    1.636881\n",
       "2                       ModelID    3.821063\n",
       "5                      YearMade   20.847658\n",
       "8                   fiModelDesc    5.384984\n",
       "9                   fiBaseModel    4.080059\n",
       "10              fiSecondaryDesc    6.441720\n",
       "12            fiModelDescriptor    1.926331\n",
       "13                  ProductSize   16.906828\n",
       "14           fiProductClassDesc    3.961925\n",
       "19                    Enclosure    5.723531\n",
       "35                    Tire_Size    1.003302\n",
       "37               Coupler_System    1.159309\n",
       "51                     saleYear    7.357204\n",
       "77             Forks_is_missing    2.244524\n",
       "101  Pattern_Changer_is_missing    1.372766"
      ]
     },
     "execution_count": 78,
     "metadata": {},
     "output_type": "execute_result"
    }
   ],
   "source": [
    "imp[imp['Importance']>1]"
   ]
  },
  {
   "cell_type": "code",
   "execution_count": 84,
   "id": "d6a0f167",
   "metadata": {},
   "outputs": [],
   "source": [
    "# plot feature importances\n",
    "def plot_features(columns, importances, n=20):\n",
    "    df = (pd.DataFrame({'feature': columns,\n",
    "                      'feature_importance': importances})\n",
    "    .sort_values('feature_importance', ascending=False)\n",
    "    .reset_index(drop=True))\n",
    "    \n",
    "    fig, ax = plt.subplots()\n",
    "    ax.barh(df['feature'][:n], df['feature_importance'][:20])\n",
    "    ax.set_ylabel('Features')\n",
    "    ax.set_xlabel('Feature Importance')\n",
    "    ax.invert_yaxis()"
   ]
  },
  {
   "cell_type": "code",
   "execution_count": 85,
   "id": "4014e003",
   "metadata": {},
   "outputs": [
    {
     "data": {
      "image/png": "[encoded data removed]",
      "text/plain": [
       "<Figure size 432x288 with 1 Axes>"
      ]
     },
     "metadata": {
      "needs_background": "light"
     },
     "output_type": "display_data"
    }
   ],
   "source": [
    "plot_features(X_train.columns, ideal_model.feature_importances_)"
   ]
  },
  {
   "cell_type": "code",
   "execution_count": null,
   "id": "26360453",
   "metadata": {},
   "outputs": [],
   "source": []
  }
 ],
 "metadata": {
  "kernelspec": {
   "display_name": "Python 3 (ipykernel)",
   "language": "python",
   "name": "python3"
  },
  "language_info": {
   "codemirror_mode": {
    "name": "ipython",
    "version": 3
   },
   "file_extension": ".py",
   "mimetype": "text/x-python",
   "name": "python",
   "nbconvert_exporter": "python",
   "pygments_lexer": "ipython3",
   "version": "3.9.7"
  }
 },
 "nbformat": 4,
 "nbformat_minor": 5
}
